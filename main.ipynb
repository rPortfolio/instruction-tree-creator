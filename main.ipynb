{
 "cells": [
  {
   "cell_type": "markdown",
   "id": "f8510cfd",
   "metadata": {},
   "source": [
    "# Making a tree from a list of heirarchal instructions\n",
    "## Overview\n",
    "This program takes a file consisting of several heirarchical lists of instructions (e.g. bullet points) and creates a JSON formatted decision tree from it.\n",
    "## Tools\n",
    "Pydantic and instructor are used to get properly formatted responses from the LLM. Gemma3 is the current model being used. It is hosted locally using Ollama."
   ]
  },
  {
   "cell_type": "code",
   "execution_count": 42,
   "id": "4178bf3a",
   "metadata": {},
   "outputs": [],
   "source": [
    "## Imports\n",
    "from __future__ import annotations\n",
    "from typing import List, Optional\n",
    "from enum import Enum\n",
    "from pydantic import BaseModel, Field\n",
    "import instructor\n",
    "from openai import OpenAI"
   ]
  },
  {
   "cell_type": "code",
   "execution_count": 43,
   "id": "248460a6",
   "metadata": {},
   "outputs": [],
   "source": [
    "## Loading LLM\n",
    "MODEL='gemma3'\n",
    "client = instructor.from_openai(\n",
    "    OpenAI(\n",
    "        base_url=\"http://localhost:11434/v1\",\n",
    "        api_key=\"ollama\",  # required, but unused\n",
    "    ),\n",
    "    mode=instructor.Mode.JSON_O1,\n",
    ")\n",
    "\n",
    "def complete(content: str, response_model):\n",
    "    return client.chat.completions.create(\n",
    "    model=MODEL,\n",
    "    messages=[\n",
    "        {\n",
    "            \"role\": \"user\",\n",
    "            \"content\": content,\n",
    "        }\n",
    "    ],\n",
    "    response_model=response_model,\n",
    ")"
   ]
  },
  {
   "cell_type": "markdown",
   "id": "42670586",
   "metadata": {},
   "source": [
    "# Extracting bullet points\n",
    "1. The markdown file containing the instructions is loaded\n",
    "1. The chunk_instructions function is called to break up the file into lists of lines\n",
    "1. Lines between ones that contain a starter substring (e.g. \"Challenge\") and blank lines are separated into sublists"
   ]
  },
  {
   "cell_type": "code",
   "execution_count": 44,
   "id": "6df552ae",
   "metadata": {},
   "outputs": [],
   "source": [
    "## Loading instructions\n",
    "INSTRUCTION_PATH: str = 'bullet_list_instructions.md'\n",
    "instructions: str = open(INSTRUCTION_PATH, 'r', encoding='utf-8').read()"
   ]
  },
  {
   "cell_type": "code",
   "execution_count": 45,
   "id": "097a20bc",
   "metadata": {},
   "outputs": [],
   "source": [
    "## Breaks bullet list of instructions into sublists\n",
    "## Sublists are all lines between a beginner string and a newline\n",
    "## A new sublist is created when a begginer string is found, even if there is no newline\n",
    "def chunk_instructions(instructions: str, beginners: list[str]) -> list[list[str]]:\n",
    "    lines: list[str] = instructions.split(\"\\n\")\n",
    "    line_count: int = len(lines)\n",
    "\n",
    "    sublists: list[list[str]] = []\n",
    "    current_sublist: list[str] = []\n",
    "    \n",
    "    for i in range(line_count):\n",
    "        line: str = lines[i]\n",
    "\n",
    "        is_beginning: bool = any(beginner in line for beginner in beginners)\n",
    "        is_end: bool = (line == \"\") or (i == line_count)\n",
    "        \n",
    "        if is_beginning or is_end:\n",
    "            if current_sublist:\n",
    "                sublists.append(current_sublist)\n",
    "            current_sublist = [line] if is_beginning else []\n",
    "        elif current_sublist:\n",
    "            current_sublist.append(line)\n",
    "    return sublists\n",
    "\n",
    "instruction_set: list[list[str]] = chunk_instructions(instructions, [\"Challenge:\", \"Preparation for community-based visit\"])"
   ]
  },
  {
   "cell_type": "markdown",
   "id": "4e30a669",
   "metadata": {},
   "source": [
    "# Tree Generation\n",
    "1. Instructor is used to get data about a specific bullet point using the NodeData pydantic class\n",
    "1. This class contains fields with prompts designed to get specific information from the bullet\n",
    "1. The create_tree function recursively creates a tree, finding child bullets using the get_bullet_indices_under_line function"
   ]
  },
  {
   "cell_type": "code",
   "execution_count": 54,
   "id": "8f55f7ed",
   "metadata": {},
   "outputs": [
    {
     "data": {
      "text/plain": [
       "'{\"reasoning\":\"The line \\\\\"if yes\\\\\" is a basic conditional statement. It represents a simple condition that checks if the word \\\\\"yes\\\\\" is true.  This is a fundamental form of an if-statement.\",\"predicate\":\"yes\",\"is_conditional\":true}'"
      ]
     },
     "execution_count": 54,
     "metadata": {},
     "output_type": "execute_result"
    }
   ],
   "source": [
    "class ConditionClassification(BaseModel):\n",
    "    reasoning: str = Field(..., description=\"Explain in detail why, or why not, the given line is an if-statement.\")\n",
    "    predicate: Optional[str] = Field(..., description=\"The condition that the if-statement depends on, as determed by your reasoning.\")\n",
    "    is_conditional: bool\n",
    "\n",
    "class VariableExtractionResponse(BaseModel):\n",
    "    reasoning: str = Field(..., description=\"Determine what variables are referenced in the given line. Be as specific as possible and explain your reasoning in detail.\")\n",
    "    variables: List[str] = Field(..., description=\"Based on your reasoning, make a list of the variable(s) in the line. Give the variables descriptive names.\")\n",
    "\n",
    "\n",
    "class LineData(BaseModel):\n",
    "    condition_classification: ConditionClassification\n",
    "    variable_extraction: VariableExtractionResponse\n",
    "\n",
    "\n",
    "class Node(BaseModel):\n",
    "    node_type: str\n",
    "    desc: str\n",
    "    variables: List[str]\n",
    "    condition: Optional[str]\n",
    "    children: list[Node]\n",
    "\n",
    "\n",
    "complete(\"Line: \\\"\\\"\\\"if yes\\\"\\\"\\\"\", ConditionClassification).model_dump_json()"
   ]
  },
  {
   "cell_type": "code",
   "execution_count": 47,
   "id": "ea417843",
   "metadata": {},
   "outputs": [],
   "source": [
    "def strip_bullet(bullet: str) -> str:\n",
    "    ascii_bullet = bullet.encode('ascii', 'ignore').decode()\n",
    "    start = 0\n",
    "    for i in range(len(ascii_bullet)):\n",
    "        if ascii_bullet[i] == \"#\":\n",
    "            continue\n",
    "        start = i\n",
    "        break\n",
    "    return ascii_bullet[start:].strip()\n",
    "\n",
    "\n",
    "def get_level(bullet: str) -> int:\n",
    "    level = 0\n",
    "    for char in bullet:\n",
    "        if char == \"#\":\n",
    "            level += 1\n",
    "        else:\n",
    "            break\n",
    "    return level\n",
    "\n",
    "\n",
    "def get_bullet_indices_under_line(bullets: list[str], line_index: int) -> list[int]:\n",
    "    if line_index + 1 == len(bullets):\n",
    "        return []\n",
    "    indices: list[int] = []\n",
    "    base_level: int = get_level(bullets[line_index])\n",
    "    for i in range(line_index + 1, len(bullets)):\n",
    "        level: int = get_level(bullets[i])\n",
    "        if level == base_level + 1:\n",
    "            indices.append(i)\n",
    "        elif level <= base_level:\n",
    "            break\n",
    "    return indices\n",
    "\n",
    "def create_tree(bullets: list[str], i: int = 0) -> Node:\n",
    "    stripped_bullet = strip_bullet(bullets[i])\n",
    "    line_data = complete(f\"Line: \\\"\\\"\\\"{stripped_bullet}\\\"\\\"\\\"\", LineData)\n",
    "    node_type: str = \"condition\" if line_data.condition_classification.is_conditional else \"instruction\"\n",
    "\n",
    "    children: list[Node] = []\n",
    "    for j in get_bullet_indices_under_line(bullets, i):\n",
    "        node = create_tree(bullets, j)\n",
    "        if node_type == \"instruction\" and node.node_type in [\"condition\", \"retrieval\"]:\n",
    "            node_type = \"retrieval\"\n",
    "        children.append(node)\n",
    "    node = Node(node_type=node_type, desc=stripped_bullet, variables=line_data.variable_extraction.variables, condition=line_data.condition_classification.predicate, children=children)\n",
    "\n",
    "    return node\n"
   ]
  },
  {
   "cell_type": "code",
   "execution_count": 55,
   "id": "7e451f57",
   "metadata": {},
   "outputs": [],
   "source": [
    "## Generates trees 1 through 4 as a test\n",
    "trees: list[Node] = list(map(create_tree, instruction_set[1:5]))"
   ]
  },
  {
   "cell_type": "code",
   "execution_count": null,
   "id": "f9ab2e6f",
   "metadata": {},
   "outputs": [
    {
     "data": {
      "text/plain": [
       "'{\"trees\" : [{\"node_type\":\"condition\",\"desc\":\"Challenge: Client is sad, despondent, or depressed\",\"variables\":[\"client_emotional_state\"],\"condition\":null,\"children\":[{\"node_type\":\"retrieval\",\"desc\":\"Conduct Columbia Suicide Severity Rating Scale\",\"variables\":[\"CSSRS\"],\"condition\":null,\"children\":[{\"node_type\":\"condition\",\"desc\":\"If positive score: Call Supervisor and consult about next steps\",\"variables\":[\"score\",\"supervisor\"],\"condition\":\"positive score\",\"children\":[]},{\"node_type\":\"condition\",\"desc\":\"If negative score:\",\"variables\":[\"score\",\"negative_score\"],\"condition\":null,\"children\":[{\"node_type\":\"instruction\",\"desc\":\"Complete Safety Plan (CL 122)\",\"variables\":[],\"condition\":null,\"children\":[]},{\"node_type\":\"instruction\",\"desc\":\"Identify plan for client to see provider\",\"variables\":[\"client\",\"provider\"],\"condition\":null,\"children\":[]},{\"node_type\":\"instruction\",\"desc\":\"Follow-up with Supervisor and review plan\",\"variables\":[\"supervisor\",\"plan\"],\"condition\":null,\"children\":[]}]},{\"node_type\":\"condition\",\"desc\":\"If client is at immediate risk of hurting self, call 911\",\"variables\":[\"client_risk_of_self_harm\"],\"condition\":\"client is at immediate risk of hurting self\",\"children\":[]}]}]},\\n{\"node_type\":\"retrieval\",\"desc\":\"Challenge: Client is experiencing hallucinations, delusional, and/or acting bizarre\",\"variables\":[\"client_mental_state\"],\"condition\":null,\"children\":[{\"node_type\":\"retrieval\",\"desc\":\"Conduct Mini Mental Status (?)\",\"variables\":[\"Mini Mental Status Exam\"],\"condition\":null,\"children\":[{\"node_type\":\"instruction\",\"desc\":\"If safety issue identified, call Supervisor and consult about next steps\",\"variables\":[\"Supervisor\",\"Safety Issue\",\"Next Steps\"],\"condition\":null,\"children\":[]},{\"node_type\":\"condition\",\"desc\":\"If no safety issues identified, follow up with primary provider that day and revisit treatment linkage\",\"variables\":[\"primary provider\",\"treatment linkage\"],\"condition\":\"no safety issues identified\",\"children\":[]}]}]},\\n{\"node_type\":\"retrieval\",\"desc\":\"Challenge: Client is behaving in an agitated, hostile, or angry manner + potential for physical aggression\",\"variables\":[\"client\"],\"condition\":null,\"children\":[{\"node_type\":\"retrieval\",\"desc\":\"Assess clients thoughts of acting aggressive, plan, and intent\",\"variables\":[\"client_thoughts\",\"aggression_plan\",\"intent\"],\"condition\":null,\"children\":[{\"node_type\":\"condition\",\"desc\":\"If you feel unsafe: Leave immediately and call Supervisor and consult about next steps\",\"variables\":[\"user_safety_level\",\"supervisor\"],\"condition\":\"feeling unsafe\",\"children\":[]},{\"node_type\":\"condition\",\"desc\":\"If imminent risk to others: Call 911 and then call Supervisor to consult about next steps including Duty to Warn.\",\"variables\":[\"risk_level\",\"911\",\"supervisor\",\"others\"],\"condition\":\"imminent risk to others\",\"children\":[]},{\"node_type\":\"instruction\",\"desc\":\"If imminent safety risk to client: Call 911 and then call Supervisor\",\"variables\":[\"client\",\"supervisor\"],\"condition\":null,\"children\":[]},{\"node_type\":\"condition\",\"desc\":\"If client denies ideation, plan and/or intent:\",\"variables\":[\"client_ideation_denial\",\"client_plan_denial\",\"client_intent_denial\"],\"condition\":null,\"children\":[{\"node_type\":\"instruction\",\"desc\":\"Deescalate client\",\"variables\":[\"client\"],\"condition\":null,\"children\":[{\"node_type\":\"instruction\",\"desc\":\"Take a calm approach, appear to be in control, lower voice, be a good listener and empathic, avoid an authoritative stance, allow the client to save face, avoid personalizing a client\\'s behavior, provide adequate space between you and the client, never promise what you can\\'t deliver, when in doubt - get out and shout. For additional training in de-escalation, see X\",\"variables\":[\"client_behavior\",\"communication_style\",\"de_escalation_strategy\"],\"condition\":null,\"children\":[]}]},{\"node_type\":\"instruction\",\"desc\":\"Once client is calm, complete Safety Plan (CL 122)\",\"variables\":[\"SafetyPlan\",\"Client\"],\"condition\":null,\"children\":[]}]}]}]},\\n{\"node_type\":\"retrieval\",\"desc\":\"Challenge: Client doesnt appear physically well\",\"variables\":[\"client_health\"],\"condition\":null,\"children\":[{\"node_type\":\"instruction\",\"desc\":\"Inquire about physical symptoms\",\"variables\":[\"physical_symptoms\"],\"condition\":null,\"children\":[]},{\"node_type\":\"instruction\",\"desc\":\"Review head to toe assessment for reported and observed symptoms\",\"variables\":[\"review\",\"head_to_toe_assessment\"],\"condition\":null,\"children\":[]},{\"node_type\":\"condition\",\"desc\":\"If any symptoms fall in red zone, call 911.\",\"variables\":[\"symptoms\",\"red_zone_severity\"],\"condition\":\"any symptoms fall in red zone\",\"children\":[]},{\"node_type\":\"condition\",\"desc\":\"If no symptoms fall in red zone\",\"variables\":[\"symptoms\",\"red_zone\"],\"condition\":null,\"children\":[{\"node_type\":\"instruction\",\"desc\":\"Continue meeting\",\"variables\":[],\"condition\":null,\"children\":[]},{\"node_type\":\"instruction\",\"desc\":\"Call Supervisor and consult about next steps\",\"variables\":[\"Supervisor\",\"Next Steps\"],\"condition\":null,\"children\":[]}]},{\"node_type\":\"instruction\",\"desc\":\"Review Signs of a Stroke diagram\",\"variables\":[\"StrokeDiagram\"],\"condition\":null,\"children\":[]},{\"node_type\":\"instruction\",\"desc\":\"Review signs of a heart attack: FAST\",\"variables\":[\"heart_attack\",\"FAST\"],\"condition\":null,\"children\":[]}]}]}'"
      ]
     },
     "execution_count": 37,
     "metadata": {},
     "output_type": "execute_result"
    }
   ],
   "source": [
    "## Converts trees to JSON\n",
    "output_file = open('output.json', 'w')\n",
    "json_string: str = \"{\\\"trees\\\" : [\"\n",
    "for i in range(len(trees)):\n",
    "    json_string += trees[i].model_dump_json()\n",
    "    if i != len(trees) - 1:\n",
    "        json_string += \",\\n\"\n",
    "\n",
    "json_string += \"]}\"\n",
    "output_file.write(json_string)\n",
    "output_file.close()\n",
    "json_string"
   ]
  },
  {
   "cell_type": "markdown",
   "id": "f3aa5521",
   "metadata": {},
   "source": [
    "# Traverser"
   ]
  },
  {
   "cell_type": "code",
   "execution_count": null,
   "id": "9e175419",
   "metadata": {},
   "outputs": [
    {
     "name": "stdout",
     "output_type": "stream",
     "text": [
      "0\n",
      "Challenge: Client is sad, despondent, or depressed\n",
      "If negative score:\n",
      "1\n",
      "2\n",
      "If client denies ideation, plan and/or intent:\n",
      "3\n",
      "If no symptoms fall in red zone\n"
     ]
    }
   ],
   "source": [
    "## Checks if trees have mislabeled nodes\n",
    "def find_mislabeled(node: Node):\n",
    "    if node.node_type == \"condition\" and node.condition == None:\n",
    "        print(node.desc)\n",
    "    for child in node.children:\n",
    "        find_mislabeled(child)\n",
    "\n",
    "for i in range(len(trees)):\n",
    "    print(i)\n",
    "    find_mislabeled(trees[i])\n"
   ]
  },
  {
   "cell_type": "code",
   "execution_count": null,
   "id": "155c5396",
   "metadata": {},
   "outputs": [
    {
     "data": {
      "text/plain": [
       "\"\\n\\nIf imminent safety risk to client: Call 911 and then call Supervisor\\nDeescalate clientTake a calm approach, appear to be in control, lower voice, be a good listener and empathic, avoid an authoritative stance, allow the client to save face, avoid personalizing a client's behavior, provide adequate space between you and the client, never promise what you can't deliver, when in doubt - get out and shout. For additional training in de-escalation, see X\\n\\nOnce client is calm, complete Safety Plan (CL 122)\\n\\n\\n\""
      ]
     },
     "execution_count": 39,
     "metadata": {},
     "output_type": "execute_result"
    }
   ],
   "source": [
    "class Validation(BaseModel):\n",
    "    is_condition_true: str = Field(\"Given this condition and information, is the condition true?\")\n",
    "\n",
    "\n",
    "def traverse_tree(node: Node, info: str) -> str:\n",
    "    instructions: str = \"\"\n",
    "    \n",
    "    if node.node_type == \"instruction\":\n",
    "        instructions += node.desc\n",
    "    \n",
    "    for child in node.children:\n",
    "        if child.condition == None or complete(f\"Condition: \\\"\\\"\\\"{child.condition}\\\"\\\"\\\"\\nInformation: \\\"\\\"\\\"{info}\\\"\\\"\\\"\", Validation).is_condition_true:\n",
    "            instructions += traverse_tree(child, info) + \"\\n\"\n",
    "    \n",
    "    return instructions\n",
    "\n",
    "traverse_tree(trees[2], \"Patient is suicidal and violent. They have a negative score. They are an immediate risk to themselves and others.\")"
   ]
  }
 ],
 "metadata": {
  "kernelspec": {
   "display_name": "Python 3",
   "language": "python",
   "name": "python3"
  },
  "language_info": {
   "codemirror_mode": {
    "name": "ipython",
    "version": 3
   },
   "file_extension": ".py",
   "mimetype": "text/x-python",
   "name": "python",
   "nbconvert_exporter": "python",
   "pygments_lexer": "ipython3",
   "version": "3.12.6"
  }
 },
 "nbformat": 4,
 "nbformat_minor": 5
}
