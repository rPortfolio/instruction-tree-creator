{
 "cells": [
  {
   "cell_type": "markdown",
   "id": "f8510cfd",
   "metadata": {},
   "source": [
    "# Making a tree from a list of heirarchal instructions\n",
    "## Overview\n",
    "This program takes a file consisting of several heirarchical lists of instructions (e.g. bullet points) and creates a JSON formatted decision tree from it.\n",
    "## Tools\n",
    "Pydantic and instructor are used to get properly formatted responses from the LLM. Gemma3 is the current model being used. It is hosted locally using Ollama."
   ]
  },
  {
   "cell_type": "code",
   "execution_count": 1,
   "id": "4178bf3a",
   "metadata": {},
   "outputs": [
    {
     "name": "stderr",
     "output_type": "stream",
     "text": [
      "c:\\Users\\romre\\AppData\\Local\\Programs\\Python\\Python312\\Lib\\site-packages\\tqdm\\auto.py:21: TqdmWarning: IProgress not found. Please update jupyter and ipywidgets. See https://ipywidgets.readthedocs.io/en/stable/user_install.html\n",
      "  from .autonotebook import tqdm as notebook_tqdm\n"
     ]
    }
   ],
   "source": [
    "## Imports\n",
    "from __future__ import annotations\n",
    "from typing import List, Optional\n",
    "from enum import Enum\n",
    "from pydantic import BaseModel, Field\n",
    "import instructor\n",
    "from openai import OpenAI"
   ]
  },
  {
   "cell_type": "code",
   "execution_count": 2,
   "id": "248460a6",
   "metadata": {},
   "outputs": [],
   "source": [
    "## Loading LLM\n",
    "MODEL='gemma3'\n",
    "client = instructor.from_openai(\n",
    "    OpenAI(\n",
    "        base_url=\"http://localhost:11434/v1\",\n",
    "        api_key=\"ollama\",  # required, but unused\n",
    "    ),\n",
    "    mode=instructor.Mode.JSON_O1,\n",
    ")\n",
    "\n",
    "def complete(content: str, response_model):\n",
    "    return client.chat.completions.create(\n",
    "    model=MODEL,\n",
    "    messages=[\n",
    "        # {\n",
    "        #     \"role\" : \"system\",\n",
    "        #     \"content\" : \"\"\n",
    "        # },\n",
    "        {\n",
    "            \"role\": \"user\",\n",
    "            \"content\": content,\n",
    "        }\n",
    "    ],\n",
    "    response_model=response_model,\n",
    ")"
   ]
  },
  {
   "cell_type": "markdown",
   "id": "42670586",
   "metadata": {},
   "source": [
    "# Extracting bullet points\n",
    "1. The markdown file containing the instructions is loaded\n",
    "1. The chunk_instructions function is called to break up the file into lists of lines\n",
    "1. Lines between ones that contain a starter substring (e.g. \"Challenge\") and blank lines are separated into sublists"
   ]
  },
  {
   "cell_type": "code",
   "execution_count": 3,
   "id": "6df552ae",
   "metadata": {},
   "outputs": [],
   "source": [
    "## Loading instructions\n",
    "# INSTRUCTION_PATH: str = 'bullet_list_instructions.md'\n",
    "INSTRUCTION_PATH: str = 'test_list.md'\n",
    "instructions: str = open(INSTRUCTION_PATH, 'r', encoding='utf-8').read()"
   ]
  },
  {
   "cell_type": "code",
   "execution_count": 4,
   "id": "097a20bc",
   "metadata": {},
   "outputs": [],
   "source": [
    "## Breaks bullet list of instructions into sublists\n",
    "## Sublists are all lines between a beginner string and a newline\n",
    "## A new sublist is created when a begginer string is found, even if there is no newline\n",
    "def chunk_instructions(instructions: str, beginners: list[str]) -> list[list[str]]:\n",
    "    lines: list[str] = instructions.split(\"\\n\")\n",
    "    line_count: int = len(lines)\n",
    "\n",
    "    sublists: list[list[str]] = []\n",
    "    current_sublist: list[str] = []\n",
    "    \n",
    "    for i in range(line_count):\n",
    "        line: str = lines[i]\n",
    "\n",
    "        is_beginning: bool = any(beginner in line for beginner in beginners)\n",
    "        is_end: bool = (line == \"\") or (i == line_count)\n",
    "        \n",
    "        if is_beginning or is_end:\n",
    "            if current_sublist:\n",
    "                sublists.append(current_sublist)\n",
    "            current_sublist = [line] if is_beginning else []\n",
    "        elif current_sublist:\n",
    "            current_sublist.append(line)\n",
    "    if current_sublist:\n",
    "        sublists.append(current_sublist)\n",
    "    return sublists\n",
    "\n",
    "instruction_set: list[list[str]] = chunk_instructions(instructions, [\"Challenge:\", \"Preparation for community-based visit\"])"
   ]
  },
  {
   "cell_type": "markdown",
   "id": "4e30a669",
   "metadata": {},
   "source": [
    "# Tree Generation\n",
    "1. Instructor is used to get data about a specific bullet point using the NodeData pydantic class\n",
    "1. This class contains fields with prompts designed to get specific information from the bullet\n",
    "1. The create_tree function recursively creates a tree, finding child bullets using the get_bullet_indices_under_line function"
   ]
  },
  {
   "cell_type": "code",
   "execution_count": 5,
   "id": "8f55f7ed",
   "metadata": {},
   "outputs": [],
   "source": [
    "class ConditionClassification(BaseModel):\n",
    "    reasoning: str = Field(..., description=\"Explain in detail why, or why not, the given line is an if-statement. Try to break the line down into this format: \\\"If (condition), (instruction)\\\"\")\n",
    "    predicate: Optional[str] = Field(..., description=\"The condition that the if-statement depends on, as determed by your reasoning.\")\n",
    "    is_conditional: bool\n",
    "\n",
    "\n",
    "class VariableExtractionResponse(BaseModel):\n",
    "    reasoning: str = Field(..., description=\"Determine what variables are referenced in the given line. Be as specific as possible and explain your reasoning in detail.\")\n",
    "    variables: List[str] = Field(..., description=\"Based on your reasoning, make a list of the variable(s) in the line. Give the variables descriptive names.\")\n",
    "\n",
    "\n",
    "# class LineData(BaseModel):\n",
    "#     condition_classification: ConditionClassification\n",
    "#     variable_extraction: VariableExtractionResponse\n",
    "\n",
    "\n",
    "class Node(BaseModel):\n",
    "    node_type: str\n",
    "    raw_instruction: str\n",
    "    variables: List[str]\n",
    "    condition: Optional[str]\n",
    "    children: list[Node]\n",
    "\n",
    "\n",
    "# complete(\"Line: \\\"\\\"\\\"Challenge: Client is sad, despondent, or depressed\\\"\\\"\\\"\", ConditionClassification).model_dump_json()"
   ]
  },
  {
   "cell_type": "code",
   "execution_count": null,
   "id": "ea417843",
   "metadata": {},
   "outputs": [],
   "source": [
    "def strip_bullet(bullet: str) -> str:\n",
    "    ascii_bullet = bullet.encode('ascii', 'ignore').decode()\n",
    "    start = 0\n",
    "    for i in range(len(ascii_bullet)):\n",
    "        if ascii_bullet[i] == \"#\":\n",
    "            continue\n",
    "        start = i\n",
    "        break\n",
    "    return ascii_bullet[start:].strip()\n",
    "\n",
    "\n",
    "def get_level(bullet: str) -> int:\n",
    "    level = 0\n",
    "    for char in bullet:\n",
    "        if char == \"#\":\n",
    "            level += 1\n",
    "        else:\n",
    "            break\n",
    "    return level\n",
    "\n",
    "\n",
    "def get_bullet_indices_under_line(bullets: list[str], line_index: int) -> list[int]:\n",
    "    if line_index + 1 == len(bullets):\n",
    "        return []\n",
    "    indices: list[int] = []\n",
    "    base_level: int = get_level(bullets[line_index])\n",
    "    for i in range(line_index + 1, len(bullets)):\n",
    "        level: int = get_level(bullets[i])\n",
    "        if level == base_level + 1:\n",
    "            indices.append(i)\n",
    "        elif level <= base_level:\n",
    "            break\n",
    "    return indices\n",
    "\n",
    "def create_tree(bullets: list[str], i: int = 0) -> Node:\n",
    "    stripped_bullet = strip_bullet(bullets[i])\n",
    "    condition_classification = complete(f\"Line: \\\"\\\"\\\"{stripped_bullet}\\\"\\\"\\\"\", ConditionClassification)\n",
    "    variable_extraction = complete(f\"Line: \\\"\\\"\\\"{stripped_bullet}\\\"\\\"\\\"\", VariableExtractionResponse)\n",
    "    node_type: str = \"condition\" if condition_classification.is_conditional else \"instruction\"\n",
    "\n",
    "    children: list[Node] = []\n",
    "    for j in get_bullet_indices_under_line(bullets, i):\n",
    "        node = create_tree(bullets, j)\n",
    "        if node_type == \"instruction\" and node.node_type in [\"condition\", \"retrieval\"]:\n",
    "            node_type = \"retrieval\"\n",
    "        children.append(node)\n",
    "    node = Node(node_type=node_type, raw_instruction=stripped_bullet, variables=variable_extraction.variables, condition=condition_classification.predicate, children=children)\n",
    "\n",
    "    return node\n"
   ]
  },
  {
   "cell_type": "code",
   "execution_count": 7,
   "id": "7e451f57",
   "metadata": {},
   "outputs": [],
   "source": [
    "## Generates trees 1 through 4 as a test\n",
    "trees: list[Node] = list(map(create_tree, instruction_set))"
   ]
  },
  {
   "cell_type": "code",
   "execution_count": 8,
   "id": "f9ab2e6f",
   "metadata": {},
   "outputs": [
    {
     "data": {
      "text/plain": [
       "'{\"trees\" : [{\"node_type\":\"retrieval\",\"raw_instruction\":\"Challenge: Client is sad, despondent, or depressed\",\"variables\":[\"client_emotional_state\"],\"condition\":\"Client is sad, despondent, or depressed\",\"children\":[{\"node_type\":\"retrieval\",\"raw_instruction\":\"Conduct Columbia Suicide Severity Rating Scale\",\"variables\":[\"CSSRS\",\"Suicide Severity Rating Scale\",\"Suicide Risk Assessment\"],\"condition\":null,\"children\":[{\"node_type\":\"condition\",\"raw_instruction\":\"If positive score: Call Supervisor and consult about next steps\",\"variables\":[\"positive score\",\"Supervisor\",\"next steps\"],\"condition\":\"positive score\",\"children\":[]},{\"node_type\":\"condition\",\"raw_instruction\":\"If negative score:\",\"variables\":[\"score\"],\"condition\":\"negative score\",\"children\":[{\"node_type\":\"condition\",\"raw_instruction\":\"Complete Safety Plan (CL 122)\",\"variables\":[\"safety_plan_name\",\"classification_code\"],\"condition\":\"Complete Safety Plan (CL 122)\",\"children\":[]},{\"node_type\":\"instruction\",\"raw_instruction\":\"Identify plan for client to see provider\",\"variables\":[\"client\",\"provider\"],\"condition\":null,\"children\":[]},{\"node_type\":\"instruction\",\"raw_instruction\":\"Follow-up with Supervisor and review plan\",\"variables\":[\"supervisor\",\"plan\"],\"condition\":null,\"children\":[]}]},{\"node_type\":\"condition\",\"raw_instruction\":\"If client is at immediate risk of hurting self, call 911\",\"variables\":[\"client\",\"self-harm risk\"],\"condition\":\"client is at immediate risk of hurting self\",\"children\":[]}]}]}]}'"
      ]
     },
     "execution_count": 8,
     "metadata": {},
     "output_type": "execute_result"
    }
   ],
   "source": [
    "## Converts trees to JSON\n",
    "output_file = open('output.json', 'w')\n",
    "json_string: str = \"{\\\"trees\\\" : [\"\n",
    "for i in range(len(trees)):\n",
    "    json_string += trees[i].model_dump_json()\n",
    "    if i != len(trees) - 1:\n",
    "        json_string += \",\\n\"\n",
    "\n",
    "json_string += \"]}\"\n",
    "output_file.write(json_string)\n",
    "output_file.close()\n",
    "json_string"
   ]
  },
  {
   "cell_type": "markdown",
   "id": "f3aa5521",
   "metadata": {},
   "source": [
    "# Traverser"
   ]
  },
  {
   "cell_type": "markdown",
   "id": "d223c05a",
   "metadata": {},
   "source": [
    "This sections is very incomplete. Disregard for now."
   ]
  },
  {
   "cell_type": "code",
   "execution_count": 9,
   "id": "9e175419",
   "metadata": {},
   "outputs": [
    {
     "name": "stdout",
     "output_type": "stream",
     "text": [
      "0\n"
     ]
    }
   ],
   "source": [
    "## Checks if trees have mislabeled nodes\n",
    "def find_mislabeled(node: Node):\n",
    "    if node.node_type == \"condition\" and node.condition == None:\n",
    "        print(node.desc)\n",
    "    for child in node.children:\n",
    "        find_mislabeled(child)\n",
    "\n",
    "for i in range(len(trees)):\n",
    "    print(i)\n",
    "    find_mislabeled(trees[i])\n"
   ]
  },
  {
   "cell_type": "code",
   "execution_count": 10,
   "id": "155c5396",
   "metadata": {},
   "outputs": [
    {
     "ename": "IndexError",
     "evalue": "list index out of range",
     "output_type": "error",
     "traceback": [
      "\u001b[1;31m---------------------------------------------------------------------------\u001b[0m",
      "\u001b[1;31mIndexError\u001b[0m                                Traceback (most recent call last)",
      "Cell \u001b[1;32mIn[10], line 17\u001b[0m\n\u001b[0;32m     13\u001b[0m             instructions \u001b[38;5;241m+\u001b[39m\u001b[38;5;241m=\u001b[39m traverse_tree(child, info) \u001b[38;5;241m+\u001b[39m \u001b[38;5;124m\"\u001b[39m\u001b[38;5;130;01m\\n\u001b[39;00m\u001b[38;5;124m\"\u001b[39m\n\u001b[0;32m     15\u001b[0m     \u001b[38;5;28;01mreturn\u001b[39;00m instructions\n\u001b[1;32m---> 17\u001b[0m traverse_tree(\u001b[43mtrees\u001b[49m\u001b[43m[\u001b[49m\u001b[38;5;241;43m2\u001b[39;49m\u001b[43m]\u001b[49m, \u001b[38;5;124m\"\u001b[39m\u001b[38;5;124mPatient is suicidal and violent. They have a negative score. They are an immediate risk to themselves and others.\u001b[39m\u001b[38;5;124m\"\u001b[39m)\n",
      "\u001b[1;31mIndexError\u001b[0m: list index out of range"
     ]
    }
   ],
   "source": [
    "class Validation(BaseModel):\n",
    "    is_condition_true: str = Field(\"Given this condition and information, is the condition true?\")\n",
    "\n",
    "\n",
    "def traverse_tree(node: Node, info: str) -> str:\n",
    "    instructions: str = \"\"\n",
    "    \n",
    "    if node.node_type == \"instruction\":\n",
    "        instructions += node.desc\n",
    "    \n",
    "    for child in node.children:\n",
    "        if child.condition == None or complete(f\"Condition: \\\"\\\"\\\"{child.condition}\\\"\\\"\\\"\\nInformation: \\\"\\\"\\\"{info}\\\"\\\"\\\"\", Validation).is_condition_true:\n",
    "            instructions += traverse_tree(child, info) + \"\\n\"\n",
    "    \n",
    "    return instructions\n",
    "\n",
    "traverse_tree(trees[2], \"Patient is suicidal and violent. They have a negative score. They are an immediate risk to themselves and others.\")"
   ]
  }
 ],
 "metadata": {
  "kernelspec": {
   "display_name": "Python 3",
   "language": "python",
   "name": "python3"
  },
  "language_info": {
   "codemirror_mode": {
    "name": "ipython",
    "version": 3
   },
   "file_extension": ".py",
   "mimetype": "text/x-python",
   "name": "python",
   "nbconvert_exporter": "python",
   "pygments_lexer": "ipython3",
   "version": "3.12.6"
  }
 },
 "nbformat": 4,
 "nbformat_minor": 5
}
