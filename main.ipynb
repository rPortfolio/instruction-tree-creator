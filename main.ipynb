{
 "cells": [
  {
   "cell_type": "markdown",
   "id": "f8510cfd",
   "metadata": {},
   "source": [
    "# Making a tree from a list of heirarchal instructions\n",
    "## Overview\n",
    "This program takes a file consisting of several heirarchical lists of instructions (e.g. bullet points) and creates a JSON formatted decision tree from it.\n",
    "## Tools\n",
    "Pydantic and instructor are used to get properly formatted responses from the LLM. Gemma3 is the current model being used. It is hosted locally using Ollama."
   ]
  },
  {
   "cell_type": "code",
   "execution_count": 36,
   "id": "4178bf3a",
   "metadata": {},
   "outputs": [],
   "source": [
    "## Imports\n",
    "from __future__ import annotations\n",
    "from typing import List, Optional\n",
    "from enum import Enum\n",
    "from pydantic import BaseModel, Field\n",
    "import instructor\n",
    "from openai import OpenAI"
   ]
  },
  {
   "cell_type": "code",
   "execution_count": 46,
   "id": "248460a6",
   "metadata": {},
   "outputs": [],
   "source": [
    "## Loading LLM\n",
    "MODEL='gemma3'\n",
    "client = instructor.from_openai(\n",
    "    OpenAI(\n",
    "        base_url=\"http://localhost:11434/v1\",\n",
    "        api_key=\"ollama\",  # required, but unused\n",
    "    ),\n",
    "    mode=instructor.Mode.JSON_O1,\n",
    ")\n",
    "\n",
    "## TODO look into using system role\n",
    "def complete(content: str, response_model):\n",
    "    return client.chat.completions.create(\n",
    "    model=MODEL,\n",
    "    messages=[\n",
    "        # {\n",
    "        #     \"role\": \"system\",\n",
    "        #     \"content\": \"Avoid restating the prompt.\",\n",
    "        # },\n",
    "        {\n",
    "            \"role\": \"user\",\n",
    "            \"content\": content,\n",
    "        }\n",
    "    ],\n",
    "    response_model=response_model,\n",
    "    # temperature=0.0\n",
    ")"
   ]
  },
  {
   "cell_type": "markdown",
   "id": "42670586",
   "metadata": {},
   "source": [
    "# Extracting bullet points\n",
    "1. The markdown file containing the instructions is loaded\n",
    "1. The chunk_instructions function is called to break up the file into lists of lines\n",
    "1. Lines between ones that contain a starter substring (e.g. \"Challenge\") and blank lines are separated into sublists"
   ]
  },
  {
   "cell_type": "code",
   "execution_count": 38,
   "id": "6df552ae",
   "metadata": {},
   "outputs": [],
   "source": [
    "## Loading instructions\n",
    "INSTRUCTION_PATH: str = 'bullet_list_instructions.md'\n",
    "instructions: str = open(INSTRUCTION_PATH, 'r', encoding='utf-8').read()"
   ]
  },
  {
   "cell_type": "code",
   "execution_count": 39,
   "id": "097a20bc",
   "metadata": {},
   "outputs": [],
   "source": [
    "## Breaks bullet list of instructions into sublists\n",
    "## Sublists are all lines between a beginner string and a newline\n",
    "## A new sublist is created when a begginer string is found, even if there is no newline\n",
    "def chunk_instructions(instructions: str, beginners: list[str]) -> list[list[str]]:\n",
    "    lines: list[str] = instructions.split(\"\\n\")\n",
    "    line_count: int = len(lines)\n",
    "\n",
    "    sublists: list[list[str]] = []\n",
    "    current_sublist: list[str] = []\n",
    "    \n",
    "    for i in range(line_count):\n",
    "        line: str = lines[i]\n",
    "\n",
    "        is_beginning: bool = any(beginner in line for beginner in beginners)\n",
    "        is_end: bool = (line == \"\") or (i == line_count)\n",
    "        \n",
    "        if is_beginning or is_end:\n",
    "            if current_sublist:\n",
    "                sublists.append(current_sublist)\n",
    "            current_sublist = [line] if is_beginning else []\n",
    "        elif current_sublist:\n",
    "            current_sublist.append(line)\n",
    "    return sublists\n",
    "\n",
    "instruction_set: list[list[str]] = chunk_instructions(instructions, [\"Challenge:\", \"Preparation for community-based visit\"])"
   ]
  },
  {
   "cell_type": "markdown",
   "id": "4e30a669",
   "metadata": {},
   "source": [
    "# Tree Generation\n",
    "1. Instructor is used to get data about a specific bullet point using the NodeData pydantic class\n",
    "1. This class contains fields with prompts designed to get specific information from the bullet\n",
    "1. The create_tree function recursively creates a tree, finding child bullets using the get_bullet_indices_under_line function"
   ]
  },
  {
   "cell_type": "code",
   "execution_count": 40,
   "id": "8f55f7ed",
   "metadata": {},
   "outputs": [
    {
     "data": {
      "text/plain": [
       "'{\"condition_classification\":{\"reasoning\":\"The line \\\\\"If yes\\\\\" is a simple conditional statement. It checks if a condition is true. In this case, the condition is implicitly \\\\\"yes\\\\\".\",\"predicate\":\"yes\",\"is_conditional\":true},\"variable_extraction\":{\"reasoning\":\"The line contains a single conditional element. The condition is represented by the word \\'yes\\'.\",\"variables\":[\"yes\"]}}'"
      ]
     },
     "execution_count": 40,
     "metadata": {},
     "output_type": "execute_result"
    }
   ],
   "source": [
    "## Node class definitions\n",
    "# NodeType = Enum('NodeType', [('CONDITION', 1), ('RETRIEVAL', 2), ('INSTRUCTION', 3)])\n",
    "\n",
    "# IS_CONDITIONAL_FIELD_DESCRIPTION: str = \"\"\"You are a language expert. Your task is to determine whether the following sentence is a conditional or unconditional statement.\n",
    "\n",
    "# A conditional statement expresses a condition and its consequence, often using words like if, unless, provided that, or in case.\n",
    "# An unconditional statement does not express such a condition-consequence structure.\n",
    "\n",
    "# Return only a boolean response.\n",
    "\n",
    "# Examples:\n",
    "\n",
    "#     Input: \"If the coffee is hot, cool it down.\"\n",
    "#     Output: true\n",
    "\n",
    "#     Input: \"If the coffee is hot and the tea is cold, drink the tea.\"\n",
    "#     Output: true\n",
    "\n",
    "#     Input: \"If yes: do something.\"\n",
    "#     Output: true\n",
    "\n",
    "#     Input: \"Is the coffee hot?\"\n",
    "#     Output: false\n",
    "\n",
    "#     Input: \"The coffee is hot.\"\n",
    "#     Output: false\n",
    "\n",
    "# Now classify the provided sentence:\"\"\"\n",
    "\n",
    "# FEATURE_FIELD_DESCRIPTION: str = \"\"\"You are a data analysis expert. Your task is to extract the dataset feature or features mentioned in the input sentence. Assume the dataset contains any necessary information.\n",
    "\n",
    "#     Features may be stated explicitly (e.g., “patient age”) or implicitly (e.g., “Is the patient over 50?” implies “age of patient”).\n",
    "\n",
    "#     If multiple features are mentioned, list them all, separated by commas.\n",
    "\n",
    "#     If no features can be determined from the sentence, respond with: \"N/A\"\n",
    "\n",
    "#     Do not include extra commentary. Only output the features or \"N/A\".\n",
    "\n",
    "# Examples:\n",
    "\n",
    "#     Input: \"Perform an analysis of the patient's seizure history.\"\n",
    "#     Output: \"Patient's seizure history\"\n",
    "\n",
    "#     Input: \"Value is greater than 4.\"\n",
    "#     Output: \"N/A\"\n",
    "\n",
    "#     Input: \"Number of seizures is greater than 4.\"\n",
    "#     Output: \"Number of seizures\"\n",
    "\n",
    "#     Input: \"Locate the patient's address and determine their age.\"\n",
    "#     Output: \"Patient address, patient age\"\n",
    "\n",
    "#     Input: \"Is the patient over 50? If yes, and the patient is male, send them to ward 1.\"\n",
    "#     Output: \"Age of patient, gender of patient\"\n",
    "\n",
    "# Now analyze the provided sentence:\"\"\"\n",
    "\n",
    "# CONDITION_FIELD_DESCRIPTION = \"\"\"You are a language analysis expert. Your task is to extract the condition from a conditional statement.\n",
    "\n",
    "#     The condition is the part of the sentence that specifies the requirement for something else to happen.\n",
    "\n",
    "#     Only include the exact words from the original sentence — do not paraphrase or reword.\n",
    "\n",
    "#     If the sentence is not a conditional statement, return only: \"N/A\"\n",
    "\n",
    "#     Do not include any extra explanation or commentary — only return the extracted condition or \"N/A\".\n",
    "\n",
    "# Examples:\n",
    "\n",
    "#     Input: \"If it is the day and there are no clouds, it is sunny.\"\n",
    "#     Output: \"it is the day and there are no clouds\"\n",
    "\n",
    "#     Input: \"The sun is bright today.\"\n",
    "#     Output: \"N/A\"\n",
    "\n",
    "#     Input: \"Unless the battery is full, keep charging it.\"\n",
    "#     Output: \"the battery is full\"\n",
    "\n",
    "#     Input: \"When the temperature drops below zero, the pipes may freeze.\"\n",
    "#     Output: \"the temperature drops below zero\"\n",
    "    \n",
    "#     Now analyze the provided sentence:\"\"\"\n",
    "\n",
    "\n",
    "IS_CONDITIONAL_FIELD_DESCRIPTION = \"Determine whether or not the given line contains a condition. The phrases \\\"if\\\", \\\"if not\\\" and other conditional language is an indication the line is conditional.\"\n",
    "CONDITION_FIELD_DESCRIPTION = \"If the line contains a conditional statement, find the specific condition. State the condition exactly as stated in the line. If the line does not contain a condition, say \\\"N/A\\\".\"\n",
    "FEATURE_FIELD_DESCRIPTION = \"List the variables that are directly or indirectly mentioned in the given line. Keep responses and concise as possible. If no such variables exist, say \\\"N/A\\\".\"\n",
    "\n",
    "\n",
    "# class NodeData(BaseModel):\n",
    "#     is_conditional: bool = Field(description=IS_CONDITIONAL_FIELD_DESCRIPTION, default_factory=bool)\n",
    "#     feature: str = Field(default=FEATURE_FIELD_DESCRIPTION)\n",
    "#     condition: str = Field(default=CONDITION_FIELD_DESCRIPTION)\n",
    "\n",
    "\n",
    "\n",
    "\n",
    "class ConditionClassification(BaseModel):\n",
    "    reasoning: str = Field(..., description=\"Determine if the given line is an if-statement. Explain your reasoning in detail. If it is an if-statement, clearly state the condition. Conditions can be as simple as \\\"yes\\\" or \\\"no\\\".\")\n",
    "    predicate: Optional[str] = Field(..., description=\"The condition that the if-statement depends on, as determed by your reasoning.\")\n",
    "    is_conditional: bool\n",
    "\n",
    "class VariableExtractionResponse(BaseModel):\n",
    "    reasoning: str = Field(..., description=\"Determine what variables are referenced in the given line. Be as specific as possible and explain your reasoning in detail.\")\n",
    "    variables: List[str] = Field(..., description=\"Based on your reasoning, make a list of the variable(s) in the line. Give the variables descriptive names.\")\n",
    "\n",
    "\n",
    "class LineData(BaseModel):\n",
    "    condition_classification: ConditionClassification\n",
    "    variable_extraction: VariableExtractionResponse\n",
    "\n",
    "\n",
    "class Node(BaseModel):\n",
    "    node_type: str\n",
    "    desc: str\n",
    "    variables: List[str]\n",
    "    condition: Optional[str]\n",
    "    children: list[Node]\n",
    "\n",
    "\n",
    "# complete(\"If X is true, go home.\", ConditionClassification).model_dump_json()\n",
    "complete(\"Line: \\\"\\\"\\\"If yes\\\"\\\"\\\"\", LineData).model_dump_json()\n",
    "# complete(\"Hello\", VariableExtractionResponse).model_dump_json()"
   ]
  },
  {
   "cell_type": "code",
   "execution_count": 41,
   "id": "ea417843",
   "metadata": {},
   "outputs": [],
   "source": [
    "def strip_bullet(bullet: str) -> str:\n",
    "    ascii_bullet = bullet.encode('ascii', 'ignore').decode()\n",
    "    start = 0\n",
    "    for i in range(len(ascii_bullet)):\n",
    "        if ascii_bullet[i] == \"#\":\n",
    "            continue\n",
    "        start = i\n",
    "        break\n",
    "    return ascii_bullet[start:].strip()\n",
    "\n",
    "\n",
    "def get_level(bullet: str) -> int:\n",
    "    level = 0\n",
    "    for char in bullet:\n",
    "        if char == \"#\":\n",
    "            level += 1\n",
    "        else:\n",
    "            break\n",
    "    return level\n",
    "\n",
    "\n",
    "def get_bullet_indices_under_line(bullets: list[str], line_index: int) -> list[int]:\n",
    "    if line_index + 1 == len(bullets):\n",
    "        return []\n",
    "    indices: list[int] = []\n",
    "    base_level: int = get_level(bullets[line_index])\n",
    "    for i in range(line_index + 1, len(bullets)):\n",
    "        level: int = get_level(bullets[i])\n",
    "        if level == base_level + 1:\n",
    "            indices.append(i)\n",
    "        elif level <= base_level:\n",
    "            break\n",
    "    return indices\n",
    "\n",
    "def create_tree(bullets: list[str], i: int = 0) -> Node:\n",
    "    stripped_bullet = strip_bullet(bullets[i])\n",
    "    line_data = complete(f\"Line: \\\"\\\"\\\"{stripped_bullet}\\\"\\\"\\\"\", LineData)\n",
    "    node_type: str = \"condition\" if line_data.condition_classification.is_conditional else \"instruction\"\n",
    "\n",
    "    children: list[Node] = []\n",
    "    for j in get_bullet_indices_under_line(bullets, i):\n",
    "        node = create_tree(bullets, j)\n",
    "        if node_type == \"instruction\" and node.node_type in [\"condition\", \"retrieval\"]:\n",
    "            node_type = \"retrieval\"\n",
    "        children.append(node)\n",
    "    node = Node(node_type=node_type, desc=stripped_bullet, variables=line_data.variable_extraction.variables, condition=line_data.condition_classification.predicate, children=children)\n",
    "\n",
    "    return node\n"
   ]
  },
  {
   "cell_type": "code",
   "execution_count": 49,
   "id": "7e451f57",
   "metadata": {},
   "outputs": [],
   "source": [
    "trees: list[Node] = list(map(create_tree, instruction_set[1:5]))"
   ]
  },
  {
   "cell_type": "code",
   "execution_count": null,
   "id": "f9ab2e6f",
   "metadata": {},
   "outputs": [
    {
     "data": {
      "text/plain": [
       "'{\"trees\" : [{\"node_type\":\"retrieval\",\"desc\":\"Preparation for community-based visit\",\"variables\":[\"community_visit\",\"preparation\"],\"condition\":null,\"children\":[{\"node_type\":\"retrieval\",\"desc\":\"Pre-screening\",\"variables\":[],\"condition\":null,\"children\":[{\"node_type\":\"instruction\",\"desc\":\"Review crisis call sheet\",\"variables\":[\"crisis_call_sheet\"],\"condition\":null,\"children\":[]},{\"node_type\":\"instruction\",\"desc\":\"Review client report card, bio, and last 30 days of notes\",\"variables\":[\"client_report_card\",\"client_bio\",\"last_30_days_notes\"],\"condition\":null,\"children\":[]},{\"node_type\":\"instruction\",\"desc\":\"Determine clients understanding of reason for visit\",\"variables\":[],\"condition\":null,\"children\":[]},{\"node_type\":\"condition\",\"desc\":\"Ensure emergency contact has been outreached\",\"variables\":[\"emergency_contact\"],\"condition\":\"emergency contact has been outreached\",\"children\":[]}]},{\"node_type\":\"retrieval\",\"desc\":\"Screening\",\"variables\":[],\"condition\":null,\"children\":[{\"node_type\":\"retrieval\",\"desc\":\"Contact brief risk screening\",\"variables\":[\"contact\",\"risk_screening\"],\"condition\":null,\"children\":[{\"node_type\":\"condition\",\"desc\":\"If client injured or unsafe, call 911\",\"variables\":[\"client_injury_status\",\"client_safety_status\"],\"condition\":\"client injured or unsafe\",\"children\":[]}]}]},{\"node_type\":\"condition\",\"desc\":\"Secure transportation\",\"variables\":[\"transportation\",\"security\"],\"condition\":\"yes\",\"children\":[{\"node_type\":\"instruction\",\"desc\":\"Ensure there is enough gas, tires have air, first aid and supply kit is in car, phone\",\"variables\":[\"gas level\",\"tire pressure\",\"first aid kit\",\"supply kit\",\"phone\"],\"condition\":null,\"children\":[]}]},{\"node_type\":\"condition\",\"desc\":\"Secure safe parking\",\"variables\":[\"parking\",\"safety\"],\"condition\":null,\"children\":[{\"node_type\":\"instruction\",\"desc\":\"Ensure area is well lit, safe to walk in area, location close to residence, legal parking spot\",\"variables\":[\"lighting_level\",\"walkability\",\"distance_to_residence\",\"parking_availability\"],\"condition\":null,\"children\":[]}]},{\"node_type\":\"condition\",\"desc\":\"Safety in approaching residence\",\"variables\":[\"safety\",\"residence\"],\"condition\":null,\"children\":[{\"node_type\":\"instruction\",\"desc\":\"Ensure there are no dangerous animals, suspicious or dangerous activity\",\"variables\":[\"dangerous_animals\",\"suspicious_activity\",\"dangerous_activity\"],\"condition\":null,\"children\":[]}]},{\"node_type\":\"retrieval\",\"desc\":\"Gain entry\",\"variables\":[],\"condition\":null,\"children\":[{\"node_type\":\"retrieval\",\"desc\":\"Seek to establish comfort and safety\",\"variables\":[],\"condition\":null,\"children\":[{\"node_type\":\"instruction\",\"desc\":\"Share who you are, the purpose of the visit, identify clients primary provider\",\"variables\":[\"client\",\"visit_purpose\",\"primary_provider\"],\"condition\":null,\"children\":[]},{\"node_type\":\"condition\",\"desc\":\"Meeting in a safe common area, do not use bathroom,\",\"variables\":[\"bathroom_usage\"],\"condition\":\"do not use bathroom\",\"children\":[{\"node_type\":\"condition\",\"desc\":\"Redirect client if necessary, to ensure these things occur\",\"variables\":[\"client\",\"redirect\"],\"condition\":null,\"children\":[]}]}]}]}]},\\n{\"node_type\":\"retrieval\",\"desc\":\"Challenge: Client is sad, despondent, or depressed\",\"variables\":[\"client_emotional_state\"],\"condition\":null,\"children\":[{\"node_type\":\"retrieval\",\"desc\":\"Conduct Columbia Suicide Severity Rating Scale\",\"variables\":[\"ColumbiaSuicideSeverityRatingScale\"],\"condition\":null,\"children\":[{\"node_type\":\"condition\",\"desc\":\"If positive score: Call Supervisor and consult about next steps\",\"variables\":[\"score\",\"supervisor\"],\"condition\":\"positive score\",\"children\":[]},{\"node_type\":\"condition\",\"desc\":\"If negative score:\",\"variables\":[\"score\"],\"condition\":\"negative score\",\"children\":[{\"node_type\":\"instruction\",\"desc\":\"Complete Safety Plan (CL 122)\",\"variables\":[],\"condition\":null,\"children\":[]},{\"node_type\":\"instruction\",\"desc\":\"Identify plan for client to see provider\",\"variables\":[\"client\",\"provider\"],\"condition\":null,\"children\":[]},{\"node_type\":\"instruction\",\"desc\":\"Follow-up with Supervisor and review plan\",\"variables\":[\"Supervisor\",\"Plan\"],\"condition\":null,\"children\":[]}]},{\"node_type\":\"condition\",\"desc\":\"If client is at immediate risk of hurting self, call 911\",\"variables\":[\"client_risk_of_self_harm\"],\"condition\":\"client is at immediate risk of hurting self\",\"children\":[]}]}]},\\n{\"node_type\":\"retrieval\",\"desc\":\"Challenge: Client is experiencing hallucinations, delusional, and/or acting bizarre\",\"variables\":[\"hallucinations\",\"delusions\",\"bizarre_behavior\"],\"condition\":null,\"children\":[{\"node_type\":\"condition\",\"desc\":\"Conduct Mini Mental Status (?)\",\"variables\":[\"Mini Mental Status Examination\"],\"condition\":\"Mini Mental Status Examination Complete?\",\"children\":[{\"node_type\":\"instruction\",\"desc\":\"If safety issue identified, call Supervisor and consult about next steps\",\"variables\":[\"Supervisor\",\"Safety Issue\"],\"condition\":null,\"children\":[]},{\"node_type\":\"condition\",\"desc\":\"If no safety issues identified, follow up with primary provider that day and revisit treatment linkage\",\"variables\":[\"safety_issues\",\"primary_provider\",\"treatment_linkage\"],\"condition\":\"no safety issues identified\",\"children\":[]}]}]},\\n{\"node_type\":\"retrieval\",\"desc\":\"Challenge: Client is behaving in an agitated, hostile, or angry manner + potential for physical aggression\",\"variables\":[\"client_behavior\",\"aggression_level\"],\"condition\":null,\"children\":[{\"node_type\":\"condition\",\"desc\":\"Assess clients thoughts of acting aggressive, plan, and intent\",\"variables\":[\"client_thoughts\",\"aggressive_behavior\",\"plan\",\"intent\"],\"condition\":null,\"children\":[{\"node_type\":\"condition\",\"desc\":\"If you feel unsafe: Leave immediately and call Supervisor and consult about next steps\",\"variables\":[\"user_safety_feeling\",\"supervisor\",\"next_steps\"],\"condition\":\"feeling unsafe\",\"children\":[]},{\"node_type\":\"condition\",\"desc\":\"If imminent risk to others: Call 911 and then call Supervisor to consult about next steps including Duty to Warn.\",\"variables\":[\"911\",\"Supervisor\",\"Duty to Warn\"],\"condition\":\"imminent risk to others\",\"children\":[]},{\"node_type\":\"condition\",\"desc\":\"If imminent safety risk to client: Call 911 and then call Supervisor\",\"variables\":[\"client\",\"911\",\"Supervisor\"],\"condition\":\"imminent safety risk to client\",\"children\":[]},{\"node_type\":\"condition\",\"desc\":\"If client denies ideation, plan and/or intent:\",\"variables\":[\"client\",\"ideation\",\"plan\",\"intent\"],\"condition\":\"client denies ideation\",\"children\":[{\"node_type\":\"instruction\",\"desc\":\"Deescalate client\",\"variables\":[\"client\"],\"condition\":null,\"children\":[{\"node_type\":\"instruction\",\"desc\":\"Take a calm approach, appear to be in control, lower voice, be a good listener and empathic, avoid an authoritative stance, allow the client to save face, avoid personalizing a client\\'s behavior, provide adequate space between you and the client, never promise what you can\\'t deliver, when in doubt - get out and shout. For additional training in de-escalation, see X\",\"variables\":[\"client_behavior\",\"de-escalation_outcome\"],\"condition\":null,\"children\":[]}]},{\"node_type\":\"condition\",\"desc\":\"Once client is calm, complete Safety Plan (CL 122)\",\"variables\":[\"safety_plan\",\"client\"],\"condition\":\"client is calm\",\"children\":[]}]}]}]},\\n{\"node_type\":\"condition\",\"desc\":\"Challenge: Client doesnt appear physically well\",\"variables\":[\"client_physical_state\"],\"condition\":\"client_physical_state\",\"children\":[{\"node_type\":\"instruction\",\"desc\":\"Inquire about physical symptoms\",\"variables\":[\"physical_symptoms\"],\"condition\":null,\"children\":[]},{\"node_type\":\"instruction\",\"desc\":\"Review head to toe assessment for reported and observed symptoms\",\"variables\":[\"assessment\",\"review\"],\"condition\":null,\"children\":[]},{\"node_type\":\"condition\",\"desc\":\"If any symptoms fall in red zone, call 911.\",\"variables\":[\"symptoms\",\"red_zone\"],\"condition\":\"symptoms fall in red zone\",\"children\":[]},{\"node_type\":\"condition\",\"desc\":\"If no symptoms fall in red zone\",\"variables\":[\"symptoms\",\"red zone\"],\"condition\":\"no symptoms fall in red zone\",\"children\":[{\"node_type\":\"instruction\",\"desc\":\"Continue meeting\",\"variables\":[],\"condition\":null,\"children\":[]},{\"node_type\":\"condition\",\"desc\":\"Call Supervisor and consult about next steps\",\"variables\":[\"supervisor\",\"next_steps\"],\"condition\":null,\"children\":[]}]},{\"node_type\":\"instruction\",\"desc\":\"Review Signs of a Stroke diagram\",\"variables\":[\"stroke_diagram\"],\"condition\":null,\"children\":[]},{\"node_type\":\"instruction\",\"desc\":\"Review signs of a heart attack: FAST\",\"variables\":[\"heart_attack_signs\",\"FAST\"],\"condition\":null,\"children\":[]}]},\\n{\"node_type\":\"retrieval\",\"desc\":\"Challenge: Utilities, HVAC, smoke alarm, carbon monoxide detector not working correctly or shut off\",\"variables\":[\"utilities\",\"HVAC\",\"smoke alarm\",\"carbon monoxide detector\"],\"condition\":null,\"children\":[{\"node_type\":\"condition\",\"desc\":\"If utility/utilities shut off\",\"variables\":[\"utilities_status\"],\"condition\":\"utility/utilities shut off\",\"children\":[{\"node_type\":\"condition\",\"desc\":\"If client is financially responsible, determine if client has financial means to restore service or conduct repair?\",\"variables\":[\"client\",\"financial responsibility\",\"financial means\",\"service\",\"repair\"],\"condition\":\"client is financially responsible and client has financial means to restore service or conduct repair\",\"children\":[{\"node_type\":\"condition\",\"desc\":\"If yes: Assist client in restoring utilities or setting up service call\",\"variables\":[\"client\",\"utilities\",\"service call\"],\"condition\":\"yes\",\"children\":[{\"node_type\":\"condition\",\"desc\":\"If delay in restoration: Call Supervisor and consult about next steps\",\"variables\":[\"restoration_delay\",\"supervisor\"],\"condition\":null,\"children\":[]}]}]},{\"node_type\":\"condition\",\"desc\":\"If no: Call Supervisor and consult about next steps\",\"variables\":[\"Supervisor\",\"NextSteps\"],\"condition\":\"no\",\"children\":[]}]},{\"node_type\":\"condition\",\"desc\":\"If utilities in need of repair\",\"variables\":[\"utilities\",\"repair_needs\"],\"condition\":\"utilities in need of repair\",\"children\":[{\"node_type\":\"condition\",\"desc\":\"If client is financially responsible for repairs, determine if client has financial means to pay for repairs\",\"variables\":[\"client\",\"repairs\",\"financial responsibility\",\"financial means\"],\"condition\":\"client is financially responsible for repairs\",\"children\":[{\"node_type\":\"condition\",\"desc\":\"If yes: Assist client in setting up repair service\",\"variables\":[\"client\",\"repair_service\"],\"condition\":\"yes\",\"children\":[{\"node_type\":\"condition\",\"desc\":\"<a name=\\\\\"_hlk19259951\\\\\"></a>If delay in restoration: Call Supervisor and consult about next steps\",\"variables\":[\"delay\",\"supervisor\"],\"condition\":\"delay in restoration\",\"children\":[]}]}]},{\"node_type\":\"condition\",\"desc\":\"If landlord is responsible for repairs: Assist client in contact landlord to schedule repairs\",\"variables\":[\"landlord\"],\"condition\":\"landlord is responsible for repairs\",\"children\":[{\"node_type\":\"condition\",\"desc\":\"If delay in restoration: Call Supervisor and consult about next steps\",\"variables\":[\"restoration_delay\",\"supervisor\"],\"condition\":null,\"children\":[]}]}]}]},\\n{\"node_type\":\"condition\",\"desc\":\"Challenge: Hoarding in home that poses a safety risk: Unusual odors, obstructed pathways, access to amenities, trip hazard, fire hazard, \\\\\"topple\\\\\" risk, air quality, utilities blocked\",\"variables\":[\"unusual odors\",\"obstructed pathways\",\"access to amenities\",\"trip hazard\",\"fire hazard\",\"topple risk\",\"air quality\",\"utilities blocked\"],\"condition\":\"hoarding poses a safety risk\",\"children\":[{\"node_type\":\"instruction\",\"desc\":\"Meet with client in another, mutually agreed upon location\",\"variables\":[\"client\",\"location\"],\"condition\":null,\"children\":[]},{\"node_type\":\"condition\",\"desc\":\"Determine if client is safe to return to home today: Is there a way to resolve the hoarding safety risk today\",\"variables\":[\"hoarding_safety_risk\",\"today\"],\"condition\":\"yes\",\"children\":[{\"node_type\":\"condition\",\"desc\":\"If no: Call Supervisor and consult about next steps\",\"variables\":[\"Supervisor\",\"Next Steps\"],\"condition\":\"no\",\"children\":[]},{\"node_type\":\"condition\",\"desc\":\"If yes: Consult with Supervisor upon return to office and alert provider/s\",\"variables\":[\"supervisor\",\"providers\",\"office\"],\"condition\":\"yes\",\"children\":[]}]}]},\\n{\"node_type\":\"retrieval\",\"desc\":\"Challenge: Pest infestation\",\"variables\":[\"pest_infestation\"],\"condition\":null,\"children\":[{\"node_type\":\"condition\",\"desc\":\"Determine if infestation is a health hazard: Rats, mice, cockroaches, and anything that has infested a food source or could potentially injure a client\",\"variables\":[\"pests\",\"food_source\",\"client\"],\"condition\":\"infestation of a food source or could potentially injure a client\",\"children\":[{\"node_type\":\"condition\",\"desc\":\"If yes: Does client live in congregate housing\",\"variables\":[\"client_housing_status\"],\"condition\":\"yes\",\"children\":[{\"node_type\":\"condition\",\"desc\":\"If yes: Assist client in contacting landlord for remediation\",\"variables\":[\"client\",\"landlord\"],\"condition\":\"yes\",\"children\":[]},{\"node_type\":\"condition\",\"desc\":\"If no: Determine if client has financial resource to remediate\",\"variables\":[\"client\",\"financial_resource\"],\"condition\":\"no\",\"children\":[{\"node_type\":\"condition\",\"desc\":\"If no: Call Supervisor and consult about next steps\",\"variables\":[\"supervisor\",\"next_steps\"],\"condition\":\"no\",\"children\":[]},{\"node_type\":\"condition\",\"desc\":\"If yes: Assist client in setting up remediation\",\"variables\":[\"condition_met\"],\"condition\":\"yes\",\"children\":[]}]}]},{\"node_type\":\"condition\",\"desc\":\"If no: Assist client in contacting landlord or pest control for remediation\",\"variables\":[\"client\",\"landlord\",\"pest control\",\"remediation\"],\"condition\":\"no\",\"children\":[]}]}]},\\n{\"node_type\":\"retrieval\",\"desc\":\"Challenge: Domestic violence and/or violence\",\"variables\":[\"violence_type\",\"violence_context\"],\"condition\":null,\"children\":[{\"node_type\":\"condition\",\"desc\":\"If violence occurring during visit: Leave premises and then call 911\",\"variables\":[\"violence\",\"visit\"],\"condition\":\"violence occurring during visit\",\"children\":[{\"node_type\":\"condition\",\"desc\":\"Call Supervisor and consult about next steps\",\"variables\":[\"supervisor\",\"next_steps\"],\"condition\":null,\"children\":[]}]},{\"node_type\":\"condition\",\"desc\":\"If violence occurring but not during visit\",\"variables\":[\"violence_occurred\",\"visit_duration\"],\"condition\":\"violence occurred and not during visit\",\"children\":[{\"node_type\":\"instruction\",\"desc\":\"Determine the perpetrator, frequency, length of time, and context including whether client or someone in the environment is engaged in substance use, inappropriate sexual behaviors, active psychiatric symptoms, etc.\",\"variables\":[\"perpetrator\",\"frequency\",\"duration\",\"substance_use\",\"inappropriate_sexual_behavior\",\"psychiatric_symptoms\"],\"condition\":null,\"children\":[]},{\"node_type\":\"condition\",\"desc\":\"Explore with client their goals to address the violence\",\"variables\":[\"client\",\"violence\"],\"condition\":null,\"children\":[{\"node_type\":\"instruction\",\"desc\":\"Restraining order: Bring client to local plice department to complete paperwork\",\"variables\":[\"client\",\"police_department\"],\"condition\":null,\"children\":[]},{\"node_type\":\"condition\",\"desc\":\"Alternative housing options: If perpetrator residing in residence, explore financial means first. Consider families/friends homes, shelters, and congregate options\",\"variables\":[\"perpetrator_location\",\"housing_options\"],\"condition\":\"perpetrator residing in residence\",\"children\":[]},{\"node_type\":\"condition\",\"desc\":\"Support groups: Identify local resources, assist with transportation\",\"variables\":[\"support_groups\",\"local_resources\",\"transportation\"],\"condition\":\"need_support_group_resources\",\"children\":[]},{\"node_type\":\"instruction\",\"desc\":\"Therapy: Link client to services\",\"variables\":[\"client\",\"services\"],\"condition\":null,\"children\":[]}]}]},{\"node_type\":\"instruction\",\"desc\":\"Complete Safety Plan with client (CL 122)\",\"variables\":[\"safety_plan\",\"client_id\"],\"condition\":null,\"children\":[]},{\"node_type\":\"condition\",\"desc\":\"Call Supervisor and consult about next steps\",\"variables\":[\"supervisor\",\"next_steps\"],\"condition\":null,\"children\":[]}]},\\n{\"node_type\":\"retrieval\",\"desc\":\"Challenge: Child abuse and/or neglect\",\"variables\":[\"child_abuse\",\"neglect\"],\"condition\":null,\"children\":[{\"node_type\":\"condition\",\"desc\":\"Determine if there is imminent danger to the child/children while at residence\",\"variables\":[\"child\",\"residence\"],\"condition\":null,\"children\":[{\"node_type\":\"condition\",\"desc\":\"If yes: Call 911 and then call Supervisor and consult about next steps\",\"variables\":[\"911\",\"Supervisor\"],\"condition\":\"yes\",\"children\":[]},{\"node_type\":\"condition\",\"desc\":\"If no, but suspicion of abuse:\",\"variables\":[\"suspicion_of_abuse\"],\"condition\":\"no\",\"children\":[{\"node_type\":\"instruction\",\"desc\":\"Call Supervisor\",\"variables\":[],\"condition\":null,\"children\":[]},{\"node_type\":\"retrieval\",\"desc\":\"Gather all information needed in preparation to call the NJ Division of Child Protection and Permanency (DCPP)\",\"variables\":[\"DCPP\"],\"condition\":null,\"children\":[{\"node_type\":\"instruction\",\"desc\":\"Who: The child and parent/caretakers name, age and address and the name of the alleged perpetrator and that persons relationship to the child.\",\"variables\":[\"child_name\",\"child_age\",\"child_address\",\"parent_caretaker_name\",\"parent_caretaker_age\",\"parent_caretaker_address\",\"perpetrator_name\",\"perpetrator_relationship\"],\"condition\":null,\"children\":[]},{\"node_type\":\"instruction\",\"desc\":\"What: Type and frequency of alleged abuse/neglect/exploitation, current or previous injuries to the child and what caused you to become concerned.\",\"variables\":[\"abuse_type\",\"abuse_frequency\",\"injury_type\",\"injury_cause\",\"concern_cause\"],\"condition\":null,\"children\":[]},{\"node_type\":\"condition\",\"desc\":\"When: When the alleged abuse/neglect/exploitation occurred and when you learned of it.\",\"variables\":[\"time_of_abuse\",\"time_of_discovery\"],\"condition\":\"When the alleged abuse/neglect/exploitation occurred AND when you learned of it\",\"children\":[]},{\"node_type\":\"condition\",\"desc\":\"Where: Where the incident occurred, where the child is now and whether the alleged perpetrator has access to the child.\",\"variables\":[\"incident_location\",\"child_location\",\"perpetrator_access\"],\"condition\":null,\"children\":[]},{\"node_type\":\"condition\",\"desc\":\"How: How urgent is the need for intervention and whether there is a likelihood of imminent danger for the child.\",\"variables\":[\"child\",\"intervention_urgency\",\"imminent_danger_likelihood\"],\"condition\":\"urgency of intervention and likelihood of imminent danger\",\"children\":[]}]},{\"node_type\":\"instruction\",\"desc\":\"Same day call to DCPP Child Abuse/Neglect Hotline: 1800-NJABUSE, 1800-652-2873\",\"variables\":[\"DCPP Child Abuse/Neglect Hotline\",\"Hotline Number 1\",\"Hotline Number 2\"],\"condition\":null,\"children\":[]},{\"node_type\":\"condition\",\"desc\":\"Alert client of DCPP report\",\"variables\":[\"client\",\"DCPP report\"],\"condition\":\"DCPP report\",\"children\":[]},{\"node_type\":\"instruction\",\"desc\":\"Documentation of report and client response to report in progress note\",\"variables\":[\"report\",\"client_response\"],\"condition\":null,\"children\":[]}]}]}]},\\n{\"node_type\":\"retrieval\",\"desc\":\"Challenge: Concerning odor/s in residence\",\"variables\":[\"odor_complaint\",\"residence\"],\"condition\":null,\"children\":[{\"node_type\":\"retrieval\",\"desc\":\"Determine if there is an identifiable source and imminent danger\",\"variables\":[],\"condition\":null,\"children\":[{\"node_type\":\"condition\",\"desc\":\"This weird small means your home is in danger of an electrical fire: <https://energytoday.biz/blog/this-weird-smell-means-your-home-is-in-danger-of-an-electrical-fire>\",\"variables\":[\"strange_smell\"],\"condition\":\"strange smell\",\"children\":[]},{\"node_type\":\"instruction\",\"desc\":\"8 highly dangerous house smells that should not be ignored:  <https://www.littlethings.com/dangerous-house-smells/>\",\"variables\":[\"dangerous_house_smells\",\"url\"],\"condition\":null,\"children\":[]}]},{\"node_type\":\"condition\",\"desc\":\"If imminent danger Leave premises with all occupants and then call 911 and then call Supervisor\",\"variables\":[\"imminent danger\",\"911\",\"Supervisor\"],\"condition\":\"imminent danger\",\"children\":[]},{\"node_type\":\"condition\",\"desc\":\"If no imminent danger: Call Supervisor and consult about next steps\",\"variables\":[\"supervisor\",\"next_steps\"],\"condition\":\"no imminent danger\",\"children\":[]}]},\\n{\"node_type\":\"condition\",\"desc\":\"Challenge: Client is suspected to be actively intoxicated\",\"variables\":[\"client_intoxication_status\"],\"condition\":\"client is suspected to be actively intoxicated\",\"children\":[{\"node_type\":\"condition\",\"desc\":\"There is an immediate safety concern:\",\"variables\":[\"safety_concern\"],\"condition\":null,\"children\":[{\"node_type\":\"retrieval\",\"desc\":\"No or unsure: Administer the Complete Speech, Coordination, Appearance, Behavior Assessment (SCAB): <https://www.justice.govt.nz/assets/Documents/Publications/Intoxication-Assessment-Tool.pdf>\",\"variables\":[\"SCAB\",\"IntoxicationAssessmentToolPDF\"],\"condition\":\"No or unsure\",\"children\":[{\"node_type\":\"condition\",\"desc\":\"Intoxicated: Call Supervisor and consult about next steps\",\"variables\":[\"supervisor\",\"next_steps\"],\"condition\":null,\"children\":[]},{\"node_type\":\"condition\",\"desc\":\"Not intoxicated: Continue with visit\",\"variables\":[\"is_intoxicated\",\"visit\"],\"condition\":\"not intoxicated\",\"children\":[]}]}]},{\"node_type\":\"condition\",\"desc\":\"<a name=\\\\\"_hlk19264635\\\\\"></a>If alcohol use is suspected, administer Alcohol Use Identification Test (AUDIT): <https://www.drugabuse.gov/sites/default/files/files/AUDIT.pdf>\",\"variables\":[\"AUDIT\",\"AUDIT_PDF_link\"],\"condition\":\"yes\",\"children\":[{\"node_type\":\"condition\",\"desc\":\"If score of 8 or more, use is considered to indicate hazardous or harmful alcohol use.\",\"variables\":[\"score\"],\"condition\":\"score >= 8\",\"children\":[]}]},{\"node_type\":\"condition\",\"desc\":\"If drug use is suspected, administer Drug Abuse Screening Test  10 (DAST-10): <https://med.dartmouth-hitchcock.org/documents/DAST-10-drug-abuse-screening-test.pdf>\",\"variables\":[\"DAST-10\"],\"condition\":\"drug use is suspected\",\"children\":[{\"node_type\":\"condition\",\"desc\":\"Score of 1-2: Monitor and reassess at a later date\",\"variables\":[\"score\",\"monitor\"],\"condition\":null,\"children\":[{\"node_type\":\"condition\",\"desc\":\"Alert Supervisor and provider/s\",\"variables\":[\"supervisor\",\"provider\"],\"condition\":\"yes\",\"children\":[]}]},{\"node_type\":\"condition\",\"desc\":\"Score of > 3: Further investigation needed\",\"variables\":[\"score\"],\"condition\":\"score > 3\",\"children\":[{\"node_type\":\"condition\",\"desc\":\"Alert Supervisor same day and provider/s\",\"variables\":[\"Supervisor\",\"Provider\"],\"condition\":\"Alert Supervisor same day and provider/s\",\"children\":[]}]}]}]},\\n{\"node_type\":\"retrieval\",\"desc\":\"Challenge: Client is actively using in front of client\",\"variables\":[\"client\",\"use\"],\"condition\":null,\"children\":[{\"node_type\":\"condition\",\"desc\":\"Considerations: Is the client suicidal, homicidal, engaging in self-injurious behavior, a potential danger to minor/s or other adults?\",\"variables\":[\"suicidal_risk\",\"homicidal_risk\",\"self_injurious_behavior\",\"danger_to_minors\",\"danger_to_adults\"],\"condition\":\"suicidal | homicidal | self-injurious behavior | danger to minors/adults\",\"children\":[]},{\"node_type\":\"instruction\",\"desc\":\"Considerations: Are there other people in the environment who appear intoxicated, threatening, aggressive?\",\"variables\":[\"intoxicated_people\",\"threatening_individuals\",\"aggressive_people\"],\"condition\":null,\"children\":[]},{\"node_type\":\"condition\",\"desc\":\"If danger present to CM: Leave premises and then call 911 and then Supervisor\",\"variables\":[\"CM\",\"danger\",\"911\",\"Supervisor\"],\"condition\":\"danger present to CM\",\"children\":[]},{\"node_type\":\"condition\",\"desc\":\"If safety concerns: Engage in motivational interviewing to request client to stop using during visit\",\"variables\":[\"client\",\"safety concerns\",\"motivational interviewing\"],\"condition\":\"safety concerns\",\"children\":[{\"node_type\":\"condition\",\"desc\":\"If client refuses to stop use: Go to actively intoxicated decision tree\",\"variables\":[\"client\"],\"condition\":\"client refuses to stop use\",\"children\":[]},{\"node_type\":\"condition\",\"desc\":\"If client agrees to stop use\",\"variables\":[\"client_agreement\",\"stop_use_status\"],\"condition\":\"client agrees to stop use\",\"children\":[{\"node_type\":\"condition\",\"desc\":\"If alcohol use is suspected, administer Alcohol Use Identification Test (AUDIT): https://www.drugabuse.gov/sites/default/files/files/AUDIT.pdf\",\"variables\":[\"AUDIT\",\"alcohol use\"],\"condition\":\"alcohol use is suspected\",\"children\":[{\"node_type\":\"condition\",\"desc\":\"If score of 8 or more, use is considered to indicate hazardous or harmful alcohol use.\",\"variables\":[\"score\"],\"condition\":\"score >= 8\",\"children\":[]}]},{\"node_type\":\"condition\",\"desc\":\"If drug use is suspected, administer Drug Abuse Screening Test  10 (DAST-10): https://med.dartmouth-hitchcock.org/documents/DAST-10-drug-abuse-screening-test.pdf\",\"variables\":[\"DAST-10\",\"Drug Abuse Screening Test 10\",\"URL\"],\"condition\":\"drug use is suspected\",\"children\":[{\"node_type\":\"condition\",\"desc\":\"Score of 1-2: Monitor and reassess at a later date\",\"variables\":[\"score\",\"monitor\"],\"condition\":null,\"children\":[{\"node_type\":\"condition\",\"desc\":\"Alert Supervisor and provider/s\",\"variables\":[\"supervisor\",\"provider\"],\"condition\":\"yes\",\"children\":[]}]},{\"node_type\":\"condition\",\"desc\":\"Score of > 3: Further investigation needed\",\"variables\":[\"score\"],\"condition\":\"score > 3\",\"children\":[{\"node_type\":\"condition\",\"desc\":\"Alert Supervisor same day and provider/s\",\"variables\":[\"Supervisor\",\"Provider\"],\"condition\":\"Alert Supervisor same day and provider/s\",\"children\":[]}]}]}]}]},{\"node_type\":\"condition\",\"desc\":\"Call Supervisor and consult about  next steps\",\"variables\":[\"supervisor\"],\"condition\":null,\"children\":[]}]},\\n{\"node_type\":\"retrieval\",\"desc\":\"Challenge: Client is exhibiting signs or symptoms of withdrawal: Sweating, tremors/shaking, goose flesh, nausea, vomiting.\",\"variables\":[\"client\",\"sweating\",\"tremors\",\"goose flesh\",\"nausea\",\"vomiting\"],\"condition\":null,\"children\":[{\"node_type\":\"condition\",\"desc\":\"Use Motivational Interviewing to discuss withdrawal symptoms (i.e. I noticed you are ) and gather additional information\",\"variables\":[\"withdrawal symptoms\"],\"condition\":\"yes\",\"children\":[{\"node_type\":\"condition\",\"desc\":\"Call Supervisor and consult about next steps\",\"variables\":[\"supervisor\",\"next_steps\"],\"condition\":null,\"children\":[]}]}]},\\n{\"node_type\":\"retrieval\",\"desc\":\"<a name=\\\\\"_hlk19267152\\\\\"></a>Challenge: Client has no access or limited access to health goods\",\"variables\":[\"client\",\"health goods\"],\"condition\":null,\"children\":[{\"node_type\":\"condition\",\"desc\":\"Determine if this is related to problems with accessing food and/or an impaired ability to plan and/or prepared meals\",\"variables\":[\"food_access_problem\",\"meal_planning_difficulty\",\"meal_preparation_difficulty\"],\"condition\":\"food access issues and impaired meal planning/preparation\",\"children\":[{\"node_type\":\"retrieval\",\"desc\":\"Access:\",\"variables\":[],\"condition\":null,\"children\":[{\"node_type\":\"condition\",\"desc\":\"Limited transportation to get food\",\"variables\":[\"transportation\",\"food\"],\"condition\":\"Limited transportation\",\"children\":[{\"node_type\":\"condition\",\"desc\":\"Determine if acute need for food\",\"variables\":[\"acute_food_need\"],\"condition\":\"acute need for food\",\"children\":[{\"node_type\":\"condition\",\"desc\":\"If yes: Take client shopping for essential food supplies now\",\"variables\":[\"client\",\"food_supplies\"],\"condition\":\"yes\",\"children\":[]},{\"node_type\":\"condition\",\"desc\":\"If no: Link CM to Transportation decision tree\",\"variables\":[\"CM\",\"Transportation\"],\"condition\":\"no\",\"children\":[]}]}]},{\"node_type\":\"retrieval\",\"desc\":\"Poor financial resources\",\"variables\":[\"financial_resources\"],\"condition\":null,\"children\":[{\"node_type\":\"retrieval\",\"desc\":\"Determine if one time vs. ongoing issue\",\"variables\":[\"time_frame\",\"issue_duration\"],\"condition\":null,\"children\":[{\"node_type\":\"instruction\",\"desc\":\"One time issue: Teach and assist client in exploring food pantry, soup kitchens and other means to supplement food supply\",\"variables\":[\"client\",\"food_pantry\",\"soup_kitchen\",\"food_supply\"],\"condition\":null,\"children\":[]},{\"node_type\":\"retrieval\",\"desc\":\"Ongoing issue:\",\"variables\":[],\"condition\":null,\"children\":[{\"node_type\":\"retrieval\",\"desc\":\"Determine eligibility for Supplemental Nutrition Assistance Program (SNAP). Online pre-eligibility screening tool: <https://www.njhelps.org/>\",\"variables\":[\"SNAP\",\"PreEligibilityScreeningTool\"],\"condition\":null,\"children\":[{\"node_type\":\"condition\",\"desc\":\"Ensure client has ID, Social Security card, birth certificate. If client is missing one of these\",\"variables\":[\"client\",\"ID\",\"Social Security card\",\"birth certificate\"],\"condition\":\"client is missing one of these documents\",\"children\":[{\"node_type\":\"instruction\",\"desc\":\"XX\",\"variables\":[],\"condition\":null,\"children\":[]}]}]},{\"node_type\":\"instruction\",\"desc\":\"Teach client and assist in exploring food pantry, soup kitchens and other means to supplement food supply\",\"variables\":[\"client\",\"food pantry\",\"soup kitchens\",\"food supply\"],\"condition\":null,\"children\":[]}]}]}]},{\"node_type\":\"condition\",\"desc\":\"Poor financial planning skills: Go to Socioeconomic Instability Decision Tree\",\"variables\":[\"financial_planning_skills\",\"socioeconomic_instability\"],\"condition\":\"poor financial planning skills\",\"children\":[]}]},{\"node_type\":\"instruction\",\"desc\":\"Skill deficit\",\"variables\":[\"skill_deficit\"],\"condition\":null,\"children\":[{\"node_type\":\"instruction\",\"desc\":\"Discuss meal planning, preparation and clean up\",\"variables\":[\"meal\",\"preparation\",\"cleanup\"],\"condition\":null,\"children\":[]},{\"node_type\":\"instruction\",\"desc\":\"Explore planning meals\",\"variables\":[\"meals\"],\"condition\":null,\"children\":[{\"node_type\":\"instruction\",\"desc\":\"Considerations: # of people needing meals in household, explore circulars/coupons, recipes, creating shopping lists, medical factors such as diabetes and hypertension\",\"variables\":[\"number_of_people\",\"circulars_coupons\",\"recipes\",\"shopping_list\",\"medical_factors\",\"diabetes\",\"hypertension\"],\"condition\":null,\"children\":[]}]},{\"node_type\":\"instruction\",\"desc\":\"Create shopping list\",\"variables\":[],\"condition\":null,\"children\":[{\"node_type\":\"instruction\",\"desc\":\"Considerations: # of people needing meals in household, budget, literacy, dietary needs, allergies\",\"variables\":[\"number_of_people\",\"budget\",\"literacy_level\",\"dietary_needs\",\"allergies\"],\"condition\":null,\"children\":[]}]},{\"node_type\":\"instruction\",\"desc\":\"Go shopping with client\",\"variables\":[\"client\"],\"condition\":null,\"children\":[{\"node_type\":\"instruction\",\"desc\":\"Considerations: selecting produce, checking expiration dates, bagging, paying, unpacking and storing\",\"variables\":[\"produce\"],\"condition\":null,\"children\":[]}]},{\"node_type\":\"instruction\",\"desc\":\"Cook with client\",\"variables\":[\"client\"],\"condition\":null,\"children\":[{\"node_type\":\"instruction\",\"desc\":\"Considerations: utensils and needed equipment on hand and ability of client to use kitchen tools, hand hygiene, following recipe, safe cutting/chopping, safe use of stove/other appliances, cooking food to proper temperature, fire extinguishing\",\"variables\":[\"utensils\",\"needed equipment\",\"client\\'s ability to use kitchen tools\",\"hand hygiene\",\"recipe\",\"cutting/chopping technique\",\"stove usage\",\"other appliances\",\"food temperature\"],\"condition\":null,\"children\":[]}]},{\"node_type\":\"instruction\",\"desc\":\"Clean up with client\",\"variables\":[\"client\"],\"condition\":null,\"children\":[{\"node_type\":\"instruction\",\"desc\":\"Considerations: Safe storage of leftovers (labeling with date), cleaning cookware and disinfecting meal preparation areas\",\"variables\":[\"leftovers\",\"cookware\",\"meal preparation areas\"],\"condition\":null,\"children\":[]}]}]}]}]},\\n{\"node_type\":\"condition\",\"desc\":\"Challenge: Client is homeless or at risk for homelessness\",\"variables\":[\"client_homeless_status\",\"client_homeless_risk\"],\"condition\":\"client is homeless or at risk for homelessness\",\"children\":[{\"node_type\":\"retrieval\",\"desc\":\"Determine whether client is homeless or at risk for homelessness\",\"variables\":[\"client\",\"homeless_status\",\"risk_of_homelessness\"],\"condition\":null,\"children\":[{\"node_type\":\"retrieval\",\"desc\":\"Homeless\",\"variables\":[],\"condition\":null,\"children\":[{\"node_type\":\"condition\",\"desc\":\"Determine if client has housing options with family and/or friends\",\"variables\":[\"housing_options\",\"family_support\",\"friend_support\"],\"condition\":\"has housing options with family and/or friends\",\"children\":[{\"node_type\":\"condition\",\"desc\":\"If yes, is this housing temporary\",\"variables\":[\"condition_answer\"],\"condition\":\"yes\",\"children\":[{\"node_type\":\"condition\",\"desc\":\"If yes: During business hours (8:00 am - 4:30 pm) take client to  Monmouth County Board of Social Services: 3000 Kozloski Rd, Freehold, NJ 07728, (732) 431-6000\",\"variables\":[\"client\",\"Monmouth County Board of Social Services\",\"Kozloski Rd\",\"Freehold\",\"NJ\",\"07728\",\"(732) 431-6000\",\"business hours\",\"8:00 am - 4:30 pm\"],\"condition\":\"yes\",\"children\":[]}]},{\"node_type\":\"condition\",\"desc\":\"If no:\",\"variables\":[\"no\"],\"condition\":\"no\",\"children\":[{\"node_type\":\"instruction\",\"desc\":\"<a name=\\\\\"_hlk19267081\\\\\"></a>During business hours (8:00 am - 4:30 pm) take client to  Monmouth County Board of Social Services: 3000 Kozloski Rd, Freehold, NJ 07728, (732) 431-6000\",\"variables\":[\"client\",\"Monmouth County Board of Social Services\",\"address\",\"phone_number\",\"time_window\"],\"condition\":null,\"children\":[]},{\"node_type\":\"condition\",\"desc\":\"Call Supervisor and consult about next steps\",\"variables\":[\"supervisor\",\"next_steps\"],\"condition\":null,\"children\":[]}]}]},{\"node_type\":\"condition\",\"desc\":\"<a name=\\\\\"_hlk19789625\\\\\"></a>If due to a skill deficit\",\"variables\":[\"skill_deficit\"],\"condition\":\"skill deficit\",\"children\":[{\"node_type\":\"instruction\",\"desc\":\"Teach client how to search for an apartment and assist them in their search (online and in the community visiting potential housing)\",\"variables\":[\"client\",\"apartment\"],\"condition\":null,\"children\":[]},{\"node_type\":\"instruction\",\"desc\":\"Teach client how to understand a tenant application and agreement and guidelines for contract. Assist client in completing application/s for housing.\",\"variables\":[\"client\",\"tenant_application\",\"agreement\",\"guidelines\"],\"condition\":null,\"children\":[]},{\"node_type\":\"instruction\",\"desc\":\"Teach client how to manage their finances to be able to pay rent: Link to SOCIOECONOMIC INSTABILITY TREE\",\"variables\":[\"socioeconomic instability tree\"],\"condition\":null,\"children\":[]},{\"node_type\":\"instruction\",\"desc\":\"Explore tangible things needed for a home and assist client in writing a list (i.e. furniture, toilet trees, cleaning supplies)\",\"variables\":[\"furniture\",\"toilet trees\",\"cleaning supplies\"],\"condition\":null,\"children\":[]},{\"node_type\":\"condition\",\"desc\":\"Assist client in obtaining needed items.\",\"variables\":[\"client\",\"items\"],\"condition\":null,\"children\":[]},{\"node_type\":\"instruction\",\"desc\":\"Teach client about ways to maintain a home (i.e. chores list, schedule for chores, paying housing costs/utilities)\",\"variables\":[\"client\",\"chores\",\"schedule\",\"housing costs\",\"utilities\"],\"condition\":null,\"children\":[]},{\"node_type\":\"instruction\",\"desc\":\"Teach client basic measures to maintain a safe home: Carbon dioxide detector, fire alarm, maintenance of utilities (i.e. who to call if something is not working).\",\"variables\":[\"client\",\"carbon dioxide detector\",\"fire alarm\",\"utilities\",\"contact person/service provider\"],\"condition\":null,\"children\":[]}]}]},{\"node_type\":\"retrieval\",\"desc\":\"At risk for homelessness\",\"variables\":[\"homelessness_risk\"],\"condition\":null,\"children\":[{\"node_type\":\"condition\",\"desc\":\"Assess the context of the situation: Family or friend is forcing client out, impending eviction, displeasure with current housing?\",\"variables\":[\"client\",\"housing_situation\",\"eviction_status\",\"family_pressure\",\"housing_dissatisfaction\"],\"condition\":\"impending eviction OR displeasure with current housing OR family/friend forcing client out\",\"children\":[]},{\"node_type\":\"condition\",\"desc\":\"If client being evicted\",\"variables\":[\"client_eviction_status\"],\"condition\":\"client being evicted\",\"children\":[{\"node_type\":\"condition\",\"desc\":\"And housing is substandard and/or undesirable\",\"variables\":[\"housing_quality\",\"housing_condition\"],\"condition\":\"housing_quality_is_poor\",\"children\":[{\"node_type\":\"instruction\",\"desc\":\"Assess income\",\"variables\":[],\"condition\":null,\"children\":[]},{\"node_type\":\"instruction\",\"desc\":\"Outline housing options: Rooming house, boarding home, RHCF, sober living residences, state funded group homes and supervised apartments, supportive housing\",\"variables\":[\"Rooming House\",\"Boarding Home\",\"RHCF\",\"Sober Living Residence\",\"State Funded Group Home\",\"Supervised Apartment\"],\"condition\":null,\"children\":[]}]},{\"node_type\":\"condition\",\"desc\":\"For non-payment of rent\",\"variables\":[\"rent\",\"non-payment\"],\"condition\":\"non-payment of rent\",\"children\":[{\"node_type\":\"instruction\",\"desc\":\"Determine stage of eviction process and timelines\",\"variables\":[\"eviction_stage\",\"eviction_timeline\"],\"condition\":null,\"children\":[]},{\"node_type\":\"condition\",\"desc\":\"Does client have housing options with family and/or friends?\",\"variables\":[\"housing_options\",\"family_support\",\"friend_support\"],\"condition\":\"client has housing options with family and/or friends\",\"children\":[{\"node_type\":\"condition\",\"desc\":\"If no, take client to consult with legal services:\",\"variables\":[\"client\",\"legal_services\"],\"condition\":\"no\",\"children\":[{\"node_type\":\"instruction\",\"desc\":\"Community Health Law Project: <http://www.chlp.org/>\",\"variables\":[\"chlp_url\"],\"condition\":null,\"children\":[]},{\"node_type\":\"instruction\",\"desc\":\"Legal Aid Society of Monmouth County, Inc.: <https://monmouthlegalaid.com/>\",\"variables\":[],\"condition\":null,\"children\":[]},{\"node_type\":\"instruction\",\"desc\":\"Office of Public Defender: <https://www.state.nj.us/defender/regional/>\",\"variables\":[\"nj_public_defender_url\"],\"condition\":null,\"children\":[]}]}]}]},{\"node_type\":\"condition\",\"desc\":\"If due to poor financial management, link to SOCIOECONOMIC INSTABILITY TREE\",\"variables\":[\"SOCIOECONOMIC INSTABILITY TREE\"],\"condition\":\"SOCIOECONOMIC INSTABILITY TREE\",\"children\":[]},{\"node_type\":\"condition\",\"desc\":\"If due to a skill deficit\",\"variables\":[\"skill_deficit\"],\"condition\":\"skill deficit\",\"children\":[{\"node_type\":\"instruction\",\"desc\":\"Teach client how to search for an apartment and assist them in their search (online and in the community visiting potential housing)\",\"variables\":[\"client\",\"apartment\"],\"condition\":null,\"children\":[]},{\"node_type\":\"instruction\",\"desc\":\"Teach client how to understand a tenant application and agreement and guidelines for contract. Assist client in completing application/s for housing.\",\"variables\":[\"client\",\"tenant_application\",\"agreement\",\"guidelines\"],\"condition\":null,\"children\":[]},{\"node_type\":\"instruction\",\"desc\":\"Teach client how to manage their finances to be able to pay rent: Link to SOCIOECONOMIC INSTABILITY TREE\",\"variables\":[\"socioeconomic instability tree\"],\"condition\":null,\"children\":[]},{\"node_type\":\"instruction\",\"desc\":\"Explore tangible things needed for a home and assist client in writing a list (i.e. furniture, toilet trees, cleaning supplies)\",\"variables\":[\"furniture\",\"toilet trees\",\"cleaning supplies\"],\"condition\":null,\"children\":[]},{\"node_type\":\"condition\",\"desc\":\"Assist client in obtaining needed items.\",\"variables\":[\"client\",\"items\"],\"condition\":null,\"children\":[]},{\"node_type\":\"instruction\",\"desc\":\"Teach client about ways to maintain a home (i.e. chores list, schedule for chores, paying housing costs/utilities)\",\"variables\":[\"client\",\"chores\",\"schedule\",\"housing costs\",\"utilities\"],\"condition\":null,\"children\":[]},{\"node_type\":\"instruction\",\"desc\":\"Teach client basic measures to maintain a safe home: Carbon dioxide detector, fire alarm, maintenance of utilities (i.e. who to call if something is not working).\",\"variables\":[\"client\",\"carbon dioxide detector\",\"fire alarm\",\"utilities\",\"contact person/service provider\"],\"condition\":null,\"children\":[]}]}]},{\"node_type\":\"instruction\",\"desc\":\"During business hours (8:00 am - 4:30 pm) take client to  Monmouth County Board of Social Services: 3000 Kozloski Rd, Freehold, NJ 07728, (732) 431-6000\",\"variables\":[\"client\",\"Monmouth County Board of Social Services\",\"Kozloski Rd\",\"Freehold\",\"NJ\",\"07728\",\"732-431-6000\"],\"condition\":null,\"children\":[]},{\"node_type\":\"condition\",\"desc\":\"Call Supervisor and consult about next steps\",\"variables\":[\"supervisor\",\"next_steps\"],\"condition\":null,\"children\":[]}]}]}]},\\n{\"node_type\":\"condition\",\"desc\":\"Challenge: Client has no transportation or limited transportation\",\"variables\":[\"transportation_availability\"],\"condition\":\"no transportation or limited transportation\",\"children\":[{\"node_type\":\"retrieval\",\"desc\":\"Determine if this is related to problems with access transportation and/or a skill deficit\",\"variables\":[],\"condition\":null,\"children\":[{\"node_type\":\"retrieval\",\"desc\":\"Access:\",\"variables\":[],\"condition\":null,\"children\":[{\"node_type\":\"condition\",\"desc\":\"If transportation is needed for health care services\",\"variables\":[\"transportation_needed\",\"health_care_services\"],\"condition\":\"need for transportation for health care services\",\"children\":[{\"node_type\":\"condition\",\"desc\":\"Determine if client has Medicaid\",\"variables\":[\"client_medicaid_status\"],\"condition\":\"client has Medicaid\",\"children\":[{\"node_type\":\"condition\",\"desc\":\"If yes: Access transportation through Logisticare: 866-527-9945\",\"variables\":[\"Logisticare Phone Number\"],\"condition\":\"yes\",\"children\":[]},{\"node_type\":\"condition\",\"desc\":\"If no: Review options below. Ensure client has ID, Social Security card and birth certificate. If client is missing one of these itemsX\",\"variables\":[\"client_id\",\"social_security_card\",\"birth_certificate\"],\"condition\":\"no\",\"children\":[{\"node_type\":\"instruction\",\"desc\":\"Call Access Link: 800-955-2321, Option 1, to begin process of applying for eligibility\",\"variables\":[\"access_link\",\"option_1\"],\"condition\":null,\"children\":[]},{\"node_type\":\"instruction\",\"desc\":\"Call SCAT: 732-431-6485\",\"variables\":[],\"condition\":null,\"children\":[]},{\"node_type\":\"condition\",\"desc\":\"Talk to Supervisor about accessing Uber Health Transportation, Lyft, cab, etc.\",\"variables\":[\"Uber Health\",\"Lyft\",\"Cab\"],\"condition\":\"yes\",\"children\":[]},{\"node_type\":\"instruction\",\"desc\":\"<a name=\\\\\"_hlk19789835\\\\\"></a>Explore other transportation options that foster independence such as walking or biking.\",\"variables\":[\"transportation_options\",\"independence\"],\"condition\":null,\"children\":[]}]}]},{\"node_type\":\"condition\",\"desc\":\"Determine if the clients condition prevents them for using public transportation\",\"variables\":[\"client\",\"condition\"],\"condition\":\"client\\'s condition\",\"children\":[{\"node_type\":\"condition\",\"desc\":\"If yes: Review options below. Ensure client  has ID, Social Security card and birth certificate. If client is missing one of these itemsX\",\"variables\":[\"client_id\",\"social_security_card\",\"birth_certificate\"],\"condition\":\"yes\",\"children\":[{\"node_type\":\"instruction\",\"desc\":\"<a name=\\\\\"_hlk19267821\\\\\"></a>Call Access Link: 800-955-2321 Option 1, to begin process of applying for eligibility\",\"variables\":[],\"condition\":null,\"children\":[]},{\"node_type\":\"condition\",\"desc\":\"Talk to Supervisor about accessing Uber Health transportation\",\"variables\":[\"supervisor\",\"uber_health_transportation\"],\"condition\":\"yes\",\"children\":[]}]},{\"node_type\":\"condition\",\"desc\":\"If no:\",\"variables\":[\"condition\"],\"condition\":\"no\",\"children\":[{\"node_type\":\"condition\",\"desc\":\"Assess skills related to the use of public transportation and if applicable, go to skill deficit section of this tree\",\"variables\":[\"public_transportation_skills\"],\"condition\":\"Skills related to the use of public transportation\",\"children\":[]}]}]}]}]},{\"node_type\":\"retrieval\",\"desc\":\"Skill Deficit\",\"variables\":[],\"condition\":null,\"children\":[{\"node_type\":\"retrieval\",\"desc\":\"Research public transportation options with client: Identify local public transportation, identify contact #s (i.e. Logisticare) review routes/times/cost, planning ahead\",\"variables\":[\"client\",\"local public transportation\",\"Logisticare\"],\"condition\":\"no\",\"children\":[{\"node_type\":\"condition\",\"desc\":\"If discovered finances limit options, go to Economic Instability decision tree.\",\"variables\":[\"financial_limitations\",\"options\"],\"condition\":\"finances limit options\",\"children\":[]}]},{\"node_type\":\"condition\",\"desc\":\"Review time management needs to facilitate timely connection with public transport (i.e. bus pick up is at 10 am, walk to bus stop is 10 minutes away, must leave at X time to make sure that they make the bus).\",\"variables\":[\"Bus Pick-up Time\",\"Walk Duration\",\"Departure Time (X)\"],\"condition\":\"Departure time (X time)\",\"children\":[]},{\"node_type\":\"condition\",\"desc\":\"Practice taking public transportation with client\",\"variables\":[\"client\"],\"condition\":\"client\",\"children\":[{\"node_type\":\"instruction\",\"desc\":\"How to ride a bus: <https://www.youtube.com/watch?v=Hy_6xFxgVwE>\",\"variables\":[\"youtube_video_url\"],\"condition\":null,\"children\":[]},{\"node_type\":\"instruction\",\"desc\":\"How to ride a train: <https://www.youtube.com/watch?v=uv6wvHr-HvE>\",\"variables\":[\"YouTube Video\",\"Train Riding Instructions\"],\"condition\":null,\"children\":[]}]},{\"node_type\":\"condition\",\"desc\":\"Additional transportation options: Ensure client has ID, SS Card & birth certificate. If client is missing one or more of these items, go to ID module\",\"variables\":[\"client\",\"ID\",\"SS Card\",\"birth certificate\"],\"condition\":\"client is missing one or more of these items\",\"children\":[{\"node_type\":\"instruction\",\"desc\":\"Call Access Link: 800-955-2321 Option 1, to begin process of applying for eligibility\",\"variables\":[\"Call Access Link\",\"800-955-2321\",\"Option 1\"],\"condition\":null,\"children\":[]},{\"node_type\":\"condition\",\"desc\":\"Talk to Supervisor about accessing Uber Health transportation\",\"variables\":[\"supervisor\",\"uber_health_transportation\"],\"condition\":\"yes\",\"children\":[]},{\"node_type\":\"instruction\",\"desc\":\"Explore other transportation options that foster independence such as walking or biking.\",\"variables\":[\"transportation_options\",\"walking\",\"biking\"],\"condition\":null,\"children\":[]}]}]},{\"node_type\":\"condition\",\"desc\":\"If mobility issues or visual/perceptual difficulties\",\"variables\":[\"mobility_issues\",\"visual_perceptual_difficulties\"],\"condition\":\"mobility issues or visual/perceptual difficulties\",\"children\":[{\"node_type\":\"condition\",\"desc\":\"Call and consult with Supervisor about next steps\",\"variables\":[\"supervisor\",\"next_steps\"],\"condition\":null,\"children\":[{\"node_type\":\"instruction\",\"desc\":\"Referral for Occupational Therapy Evaluation\",\"variables\":[\"Referral\",\"Occupational Therapy Evaluation\"],\"condition\":null,\"children\":[]},{\"node_type\":\"instruction\",\"desc\":\"Referral for vision exam\",\"variables\":[\"vision_exam\"],\"condition\":null,\"children\":[]}]}]}]}]},\\n]}'"
      ]
     },
     "execution_count": 43,
     "metadata": {},
     "output_type": "execute_result"
    }
   ],
   "source": [
    "output_file = open('output.json', 'w')\n",
    "json_string: str = \"{\\\"trees\\\" : [\"\n",
    "for i in range(len(trees)):\n",
    "    json_string += trees[i].model_dump_json()\n",
    "    if i != len(trees):\n",
    "        json_string += \",\\n\"\n",
    "\n",
    "json_string += \"]}\"\n",
    "output_file.write(json_string)\n",
    "output_file.close()\n",
    "json_string"
   ]
  },
  {
   "cell_type": "markdown",
   "id": "f3aa5521",
   "metadata": {},
   "source": [
    "# Traverser"
   ]
  },
  {
   "cell_type": "code",
   "execution_count": 54,
   "id": "9e175419",
   "metadata": {},
   "outputs": [
    {
     "name": "stdout",
     "output_type": "stream",
     "text": [
      "True\n",
      "Conduct Mini Mental Status (?)\n",
      "False\n",
      "True\n",
      "Call Supervisor and consult about next steps\n",
      "False\n"
     ]
    }
   ],
   "source": [
    "def validate_tree(node: Node) -> bool:\n",
    "    if node.node_type == \"condition\" and node.condition == None:\n",
    "        print(node.desc)\n",
    "        return False\n",
    "    for child in node.children:\n",
    "        if validate_tree(child) == False:\n",
    "            return False\n",
    "    return True\n",
    "\n",
    "for tree in trees:\n",
    "    print(validate_tree(tree))\n",
    "\n",
    "\n"
   ]
  },
  {
   "cell_type": "code",
   "execution_count": null,
   "id": "155c5396",
   "metadata": {},
   "outputs": [
    {
     "data": {
      "text/plain": [
       "'If safety issue identified, call Supervisor and consult about next steps\\n\\n\\n'"
      ]
     },
     "execution_count": 45,
     "metadata": {},
     "output_type": "execute_result"
    }
   ],
   "source": [
    "class Validation(BaseModel):\n",
    "    is_condition_true: str = Field(\"Given this condition and information, is the condition true?\")\n",
    "\n",
    "\n",
    "def traverse_tree(node: Node, info: str) -> str:\n",
    "    instructions: str = \"\"\n",
    "    \n",
    "    if node.node_type == \"instruction\":\n",
    "        instructions += node.desc\n",
    "    \n",
    "    for child in node.children:\n",
    "        if child.condition == None or complete(f\"Condition: \\\"\\\"\\\"{child.condition}\\\"\\\"\\\"\\nInformation: \\\"\\\"\\\"{info}\\\"\\\"\\\"\", Validation).is_condition_true:\n",
    "            instructions += traverse_tree(child, info) + \"\\n\"\n",
    "    \n",
    "    return instructions\n",
    "\n",
    "traverse_tree(trees[2], \"Patient is suicidal and violent. They have a negative score. They are an immediate risk to themselves and others.\")"
   ]
  }
 ],
 "metadata": {
  "kernelspec": {
   "display_name": "Python 3",
   "language": "python",
   "name": "python3"
  },
  "language_info": {
   "codemirror_mode": {
    "name": "ipython",
    "version": 3
   },
   "file_extension": ".py",
   "mimetype": "text/x-python",
   "name": "python",
   "nbconvert_exporter": "python",
   "pygments_lexer": "ipython3",
   "version": "3.12.6"
  }
 },
 "nbformat": 4,
 "nbformat_minor": 5
}
